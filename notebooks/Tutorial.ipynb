{
 "cells": [
  {
   "cell_type": "markdown",
   "id": "d6dea4ef",
   "metadata": {
    "tags": []
   },
   "source": [
    "## Imports"
   ]
  },
  {
   "cell_type": "code",
   "execution_count": null,
   "id": "97838be4",
   "metadata": {},
   "outputs": [],
   "source": [
    "import json\n",
    "import os\n",
    "import sys\n",
    "from collections import defaultdict\n",
    "import glob\n",
    "from pprint import pprint\n",
    "from os import PathLike\n",
    "from statistics import mean\n",
    "from typing import Union\n",
    "\n",
    "import matplotlib.pyplot as plt\n",
    "import numpy as np\n",
    "import pandas as pd\n",
    "import seaborn as sns\n",
    "import matplotlib.pyplot as plt\n",
    "from tqdm import tqdm\n",
    "\n",
    "module_path = os.path.abspath(os.path.join('..'))\n",
    "if module_path not in sys.path:\n",
    "    sys.path.append(module_path)\n",
    "\n",
    "from g_index import Experiment\n",
    "from node_utils import node_divergence\n",
    "from utils import *\n",
    "from ipywidgets import interact,FloatLogSlider,IntSlider,FloatSlider\n",
    "import ipywidgets as widgets\n",
    "\n",
    "\n",
    "#Experiment Settings\n",
    "EXP_ROOT = '../experiments/'\n",
    "EXP_FILES = glob.glob(EXP_ROOT+\"/*.json\")\n",
    "DD_CACHE = cache_dd()\n",
    "DOMAIN_LENGTHS = get_domain_lengths(AVAILABLE_DOMAINS)\n",
    "\n",
    "##Plot Settings\n",
    "ALPHA,S=0.90,240\n",
    "plt.rcParams.update({\n",
    "    \"figure.figsize\":(16,9),\n",
    "    \"font.size\": 24,\n",
    "    \"lines.color\": \"black\",\n",
    "    \"patch.edgecolor\": \"white\",\n",
    "    \"axes.edgecolor\": \"0.15\",\n",
    "    \"axes.linewidth\":1.25,\n",
    "    \"axes.grid\":True,\n",
    "    \"savefig.facecolor\": \"white\",\n",
    "    \"savefig.edgecolor\": \"white\",\n",
    "    \"xtick.major.size\":20,\n",
    "    'legend.fontsize': 20,\n",
    "    'legend.handlelength': 2,\n",
    "    'axes.titlesize':22\n",
    "    })\n",
    "\n",
    "colors = [\"#375E97\",\"#FB6542\",\"#FFBB00\",\"#3F681C\"]\n",
    "models = ['gpt2-774M','gpt2-345M','gpt2-1.5B','gptneo-2.7B']\n",
    "model_colormap = {model:color for color,model in zip(colors,models) }\n",
    "model_name_correction = {'gpt2-medium': 'gpt2-345M',\n",
    "                   'gpt2-large': 'gpt2-774M',\n",
    "                   'gpt2-xl': 'gpt2-1.5B',\n",
    "                   'EleutherAI gpt-neo-2.7B': 'gptneo-2.7B'}"
   ]
  },
  {
   "cell_type": "markdown",
   "id": "4ee98a56",
   "metadata": {
    "heading_collapsed": "true",
    "tags": []
   },
   "source": [
    "## 1. Domains"
   ]
  },
  {
   "cell_type": "markdown",
   "id": "6f4dd65a",
   "metadata": {
    "heading_collapsed": "true",
    "tags": []
   },
   "source": [
    "### What are domains"
   ]
  },
  {
   "cell_type": "markdown",
   "id": "bc12f373",
   "metadata": {},
   "source": [
    "TODO"
   ]
  },
  {
   "cell_type": "markdown",
   "id": "33b8c177",
   "metadata": {
    "heading_collapsed": "true",
    "tags": []
   },
   "source": [
    "### List of Available Domains"
   ]
  },
  {
   "cell_type": "code",
   "execution_count": null,
   "id": "a76490d1",
   "metadata": {},
   "outputs": [],
   "source": [
    "for i,domain in enumerate(AVAILABLE_DOMAINS):\n",
    "    print(i,\" \",domain)"
   ]
  },
  {
   "cell_type": "markdown",
   "id": "b35372eb",
   "metadata": {
    "heading_collapsed": "true",
    "tags": []
   },
   "source": [
    "### What is Domain Distance"
   ]
  },
  {
   "cell_type": "markdown",
   "id": "d44ab64a",
   "metadata": {},
   "source": [
    "TODO"
   ]
  },
  {
   "cell_type": "markdown",
   "id": "bd751468",
   "metadata": {
    "heading_collapsed": "true",
    "tags": []
   },
   "source": [
    "### Calculating Domain Distance between two domains"
   ]
  },
  {
   "cell_type": "markdown",
   "id": "357f78f0",
   "metadata": {},
   "source": [
    "TODO"
   ]
  },
  {
   "cell_type": "code",
   "execution_count": null,
   "id": "a1621457",
   "metadata": {},
   "outputs": [],
   "source": [
    "domain_1 = 'telegram-2-reply'\n",
    "domain_2 = 'telegram-3-reply'\n",
    "\n",
    "calculate_dd(domain_1,domain_2,verbose=True)"
   ]
  },
  {
   "cell_type": "markdown",
   "id": "6a3dafe4",
   "metadata": {
    "heading_collapsed": "true",
    "tags": []
   },
   "source": [
    "### Calculating Domain Distance between two JSON files"
   ]
  },
  {
   "cell_type": "markdown",
   "id": "5d9f6a15",
   "metadata": {},
   "source": [
    "TODO"
   ]
  },
  {
   "cell_type": "code",
   "execution_count": null,
   "id": "9b944283",
   "metadata": {},
   "outputs": [],
   "source": [
    "domain_1 = '../domains/youtube-pause/youtube-pause-6e696d.json'\n",
    "domain_2 = '../domains/facebook/facebook-b4ee9a.json'\n",
    "\n",
    "calculate_dd(domain_1,domain_2,verbose=True)"
   ]
  },
  {
   "cell_type": "markdown",
   "id": "79d3629c",
   "metadata": {
    "heading_collapsed": "true",
    "tags": []
   },
   "source": [
    "### Plotting the Domain Distance Matrix"
   ]
  },
  {
   "cell_type": "code",
   "execution_count": null,
   "id": "2c69e5e1",
   "metadata": {},
   "outputs": [],
   "source": [
    "sns.set(rc={'figure.figsize':(16,12)})\n",
    "generate_dd_matrix()"
   ]
  },
  {
   "cell_type": "markdown",
   "id": "1ba11d39",
   "metadata": {
    "tags": []
   },
   "source": [
    "## 2. Experiments"
   ]
  },
  {
   "cell_type": "markdown",
   "id": "3e2b2710",
   "metadata": {
    "heading_collapsed": "true",
    "tags": []
   },
   "source": [
    "### What is an Experiment? "
   ]
  },
  {
   "cell_type": "markdown",
   "id": "4bf01929",
   "metadata": {},
   "source": [
    "TODO"
   ]
  },
  {
   "cell_type": "markdown",
   "id": "1eb9a753",
   "metadata": {
    "heading_collapsed": "true",
    "tags": []
   },
   "source": [
    "### Components of an experiment"
   ]
  },
  {
   "cell_type": "markdown",
   "id": "054d87f6",
   "metadata": {},
   "source": [
    "The Major Components of an experiment are:\n",
    "1. Intelligent System(`IS`): \n",
    "2. Curricula Domains: \n",
    "3. Task Domains:\n",
    "4. Experience(`E`):\n",
    "5. Generalization Difficulty( `GD` ): \n",
    "6. Performance Details "
   ]
  },
  {
   "cell_type": "code",
   "execution_count": null,
   "id": "509bd68b-39af-4d79-9ee5-92aab0e69934",
   "metadata": {},
   "outputs": [],
   "source": [
    "EXP_FILES"
   ]
  },
  {
   "cell_type": "code",
   "execution_count": null,
   "id": "75170e18",
   "metadata": {},
   "outputs": [],
   "source": [
    "exp_file = EXP_FILES[0]\n",
    "exp = Experiment(exp_file)\n",
    "exp.get_exp_components(truncate_domains=True,print_members=True)"
   ]
  },
  {
   "cell_type": "markdown",
   "id": "ae81f015",
   "metadata": {
    "heading_collapsed": "true",
    "tags": []
   },
   "source": [
    "## 3. g-index"
   ]
  },
  {
   "cell_type": "markdown",
   "id": "d912faf5",
   "metadata": {
    "heading_collapsed": "true",
    "tags": []
   },
   "source": [
    "### What is `g-index`?"
   ]
  },
  {
   "cell_type": "markdown",
   "id": "195d04c8",
   "metadata": {},
   "source": [
    "TODO"
   ]
  },
  {
   "cell_type": "markdown",
   "id": "f040b02f",
   "metadata": {
    "heading_collapsed": "true",
    "tags": []
   },
   "source": [
    "### Calculating `g-index` from an experiment files"
   ]
  },
  {
   "cell_type": "markdown",
   "id": "71424a2a",
   "metadata": {},
   "source": [
    "Steps:\n",
    "1. Load an Experiment file in the Experiment Class\n",
    "2. Run `calculate_g_index` function"
   ]
  },
  {
   "cell_type": "code",
   "execution_count": null,
   "id": "378dd98b-d554-4f2a-bcde-b29a448f6bea",
   "metadata": {},
   "outputs": [],
   "source": [
    "exp_file = EXP_FILES[0]\n",
    "exp = Experiment(exp_file)\n",
    "exp.get_exp_components(print_members=True,truncate_domains=True)"
   ]
  },
  {
   "cell_type": "code",
   "execution_count": null,
   "id": "3c92dbc6",
   "metadata": {},
   "outputs": [],
   "source": [
    "#Use `calculate_g_index` to calculate the value for this experiment\n",
    "exp.calculate_g_index()"
   ]
  },
  {
   "cell_type": "markdown",
   "id": "eadb9e11",
   "metadata": {
    "heading_collapsed": "true",
    "tags": []
   },
   "source": [
    "### Calculating `g-index` from Values"
   ]
  },
  {
   "cell_type": "markdown",
   "id": "84437af2-4572-4928-b522-fe92abea3442",
   "metadata": {},
   "source": [
    "`g-index` can be calculated by\n",
    "- The Ipywidget given below OR\n",
    "- Create a dummy experiment and give the function `simulate_g_index` the desired values "
   ]
  },
  {
   "cell_type": "code",
   "execution_count": null,
   "id": "5a9ed6bb-dea0-4e29-88c7-2b1ba3a99b3e",
   "metadata": {},
   "outputs": [],
   "source": [
    "exp = Experiment()"
   ]
  },
  {
   "cell_type": "code",
   "execution_count": null,
   "id": "134d7007-04b6-4c99-8710-2a39027b1f57",
   "metadata": {},
   "outputs": [],
   "source": [
    "#Create a dummy Experiment Class\n",
    "style = {'description_width': '100px'}\n",
    "interact(exp.simulate_g_index,\n",
    "         n_tasks_domain=widgets.IntSlider(value=5,min=1,max=100,step=1,description=\"Samples per Task domain\",style=style), \n",
    "         n_curricula_domain=IntSlider(value=5,min=1,max=100,step=1,description=\"Samples per Curricula domain\",style=style),\n",
    "         sim_GD=FloatSlider(value=0.0,min=0.0,max=1.00,step=0.01,description=\"Generalization Difficulty\",style=style), \n",
    "         sim_P=FloatLogSlider(value=-3,min=-10,max=10,step=1,description=\"Prior\",style=style),\n",
    "         sim_E=FloatLogSlider(value=1,min=1,max=12,step=1,description=\"Experience\",style=style),\n",
    "         sim_PTheta=FloatSlider(value=0.1,min=0.00,max=1.00,step=0.01,description=\"Performance θ\",style=style));"
   ]
  },
  {
   "cell_type": "markdown",
   "id": "17b436e7",
   "metadata": {
    "tags": []
   },
   "source": [
    "## 4. Reproducing results mentioned in the paper"
   ]
  },
  {
   "cell_type": "markdown",
   "id": "2a8e60d3",
   "metadata": {
    "tags": []
   },
   "source": [
    "### Section-3 Simulation Plots"
   ]
  },
  {
   "cell_type": "code",
   "execution_count": null,
   "id": "4f31f1f1",
   "metadata": {},
   "outputs": [],
   "source": []
  },
  {
   "cell_type": "markdown",
   "id": "8af3f758",
   "metadata": {},
   "source": [
    "#### g-index vs Training Samples ( for varying $\\theta$ ) "
   ]
  },
  {
   "cell_type": "code",
   "execution_count": null,
   "id": "a86a7ce7",
   "metadata": {},
   "outputs": [],
   "source": []
  },
  {
   "cell_type": "markdown",
   "id": "3843f9ef",
   "metadata": {},
   "source": [
    "#### g-index vs Compute ( for varying $\\theta$ ) "
   ]
  },
  {
   "cell_type": "code",
   "execution_count": null,
   "id": "695e95f6",
   "metadata": {},
   "outputs": [],
   "source": []
  },
  {
   "cell_type": "markdown",
   "id": "d6204380",
   "metadata": {},
   "source": [
    "#### G-index vs $\\theta$ ( for varying $\\Omega$ ) HeatMap"
   ]
  },
  {
   "cell_type": "code",
   "execution_count": null,
   "id": "6c4a2a6e",
   "metadata": {},
   "outputs": [],
   "source": []
  },
  {
   "cell_type": "markdown",
   "id": "02c4c97e",
   "metadata": {
    "heading_collapsed": "true",
    "tags": []
   },
   "source": [
    "### Section-4 Experiment Plots"
   ]
  },
  {
   "cell_type": "markdown",
   "id": "fc539f31",
   "metadata": {
    "heading_collapsed": "true",
    "tags": []
   },
   "source": [
    "#### Average Performance ( $\\theta$ )  vs Training Samples"
   ]
  },
  {
   "cell_type": "code",
   "execution_count": null,
   "id": "c6764d91",
   "metadata": {},
   "outputs": [],
   "source": [
    "results = {\"IS\":[],\"avg_perf\":[],\"total_samples\":[],\"g_index\":[]}\n",
    "for exp_file in EXP_FILES:\n",
    "    exp = Experiment(exp_file)    \n",
    "    exp_c = exp.get_exp_components()\n",
    "    avg_perf = exp_c.AveragePerformance\n",
    "    IS = exp_c.IS\n",
    "    CurriculaDomains = exp_c.CurriculaDomains\n",
    "    total_samples = sum( [ domain['num_samples'] for domain in CurriculaDomains])\n",
    "    g_index = exp.calculate_g_index()\n",
    "    \n",
    "    results['IS'].append(IS)\n",
    "    results['avg_perf'].append(avg_perf)\n",
    "    results['total_samples'].append(total_samples)\n",
    "    results['g_index'].append(g_index)"
   ]
  },
  {
   "cell_type": "code",
   "execution_count": null,
   "id": "bc03b424",
   "metadata": {},
   "outputs": [],
   "source": [
    "gi = results['g_index']\n",
    "g_i_dots_scales = [ scale_dots( min(gi),max(gi), c) for c in gi ]\n",
    "data_list = [ [x,y,model_name,marker_size] for (x,y,model_name,marker_size) in zip(results['total_samples'],results['avg_perf'],results['IS'],g_i_dots_scales) ]"
   ]
  },
  {
   "cell_type": "code",
   "execution_count": null,
   "id": "f63f4d66",
   "metadata": {},
   "outputs": [],
   "source": [
    "fig,axes = plt.subplots()\n",
    "ylabel = \"$\\\\theta$\"\n",
    "xlabel = \"Training Samples\"\n",
    "plt.xlabel(xlabel)\n",
    "plt.ylabel(ylabel)\n",
    "plt.ylim(0,1)\n",
    "\n",
    "for entry in data_list:\n",
    "    color = model_colormap[model_name_correction[entry[2]]]\n",
    "    sns.scatterplot(x=[entry[0]],y=[entry[1]],color=color,s=S,alpha=ALPHA)\n",
    "\n",
    "plt.tight_layout()\n",
    "#Dummy plot to generate legend\n",
    "markers = [plt.Line2D([0,0],[0,0],color=color, marker='o', linestyle='') for color in model_colormap.values()]\n",
    "plt.legend(markers,model_colormap.keys())\n",
    "plt.title(f\"{ylabel} vs {xlabel}\",loc=\"center\")\n",
    "plt.show()"
   ]
  },
  {
   "cell_type": "markdown",
   "id": "c7ddb7c2",
   "metadata": {
    "heading_collapsed": "true",
    "tags": []
   },
   "source": [
    "#### Average Domain Performance ( $\\theta$ ) vs Program Size"
   ]
  },
  {
   "cell_type": "code",
   "execution_count": null,
   "id": "6140224b",
   "metadata": {},
   "outputs": [],
   "source": [
    "domains_considered = AVAILABLE_DOMAINS\n",
    "results_pst = {\"IS\":[],\"domain_name\":[],\"program_size\":[],\"theta\":[]}\n",
    "\n",
    "for exp_file in EXP_FILES:\n",
    "    exp = Experiment(exp_file)\n",
    "    for domain in domains_considered:\n",
    "        exp_c = exp.get_exp_components()\n",
    "        IS = exp_c.IS\n",
    "        perf_details = exp_c.PerformanceDetails\n",
    "        perf_details = next( item for item in perf_details if item[\"name\"] == domain )\n",
    "        program_size = DOMAIN_LENGTHS[domain]\n",
    "        \n",
    "        results_pst[\"IS\"].append(IS)\n",
    "        results_pst[\"domain_name\"].append(domain)\n",
    "        results_pst[\"program_size\"].append(program_size)\n",
    "        results_pst[\"theta\"].append( perf_details['performance'])        \n",
    "df = pd.DataFrame(results_pst).groupby(by=['domain_name','IS']).mean()"
   ]
  },
  {
   "cell_type": "code",
   "execution_count": null,
   "id": "428e98f6",
   "metadata": {},
   "outputs": [],
   "source": [
    "fig,axes = plt.subplots()\n",
    "xlabel = \"Program size\"\n",
    "ylabel = \"$\\\\theta$\"\n",
    "plt.xlabel(xlabel)\n",
    "plt.ylabel(ylabel)\n",
    "plt.ylim(0,1)\n",
    "\n",
    "rl = list(results_pst.values())\n",
    "for temp in domains_considered:\n",
    "    tdf = df.loc[temp]\n",
    "    tdf = tdf.reindex(list(model_name_correction.keys()))\n",
    "    x = tdf['program_size']\n",
    "    y = tdf['theta']\n",
    "    for model in model_name_correction.keys():\n",
    "        x = tdf.loc[model]['program_size']\n",
    "        y = tdf.loc[model]['theta']\n",
    "        color = model_colormap[model_name_correction[model]]\n",
    "        sns.scatterplot(x=[x],y=[y],color=color,s=S,alpha=ALPHA)\n",
    "\n",
    "plt.tight_layout()\n",
    "#Dummy Plot to Generate Legend\n",
    "markers = [plt.Line2D([0,0],[0,0],color=color, marker='o', linestyle='') for color in model_colormap.values()]\n",
    "plt.legend(markers,model_colormap.keys())\n",
    "plt.title(f\"{ylabel} vs {xlabel}\",loc=\"center\")\n",
    "plt.show()"
   ]
  },
  {
   "cell_type": "markdown",
   "id": "ffce77c6",
   "metadata": {
    "heading_collapsed": "true",
    "tags": []
   },
   "source": [
    "#### Skill level vs Program Size "
   ]
  },
  {
   "cell_type": "code",
   "execution_count": null,
   "id": "406b26be",
   "metadata": {},
   "outputs": [],
   "source": [
    "results_def = {\"IS\":[],\"domain_name\":[],\"program_size\":[],\"skill_level\":[]}\n",
    "for exp_file in EXP_FILES:\n",
    "    exp = Experiment(exp_file)\n",
    "    for domain in domains_considered:\n",
    "        exp_c = exp.get_exp_components()\n",
    "        IS = exp_c.IS\n",
    "        perf_details = exp_c.PerformanceDetails\n",
    "        perf_details = next( item for item in perf_details if item[\"name\"] == domain )\n",
    "        program_size = DOMAIN_LENGTHS[domain]\n",
    "        results_def[\"IS\"].append(IS)\n",
    "        results_def[\"domain_name\"].append(domain)\n",
    "        results_def[\"program_size\"].append(program_size)\n",
    "        results_def[\"skill_level\"].append(perf_details['perfects'])\n",
    "df = pd.DataFrame(results_def).groupby(by=['domain_name','IS']).mean()"
   ]
  },
  {
   "cell_type": "code",
   "execution_count": null,
   "id": "8902ab5f",
   "metadata": {},
   "outputs": [],
   "source": [
    "fig,axes = plt.subplots()\n",
    "xlabel = \"Program size\"\n",
    "ylabel = \"Skill level\"\n",
    "plt.xlabel(xlabel)\n",
    "plt.ylabel(ylabel)\n",
    "plt.ylim(0,1)\n",
    "\n",
    "rl = list(results_def.values())\n",
    "for domain in domains_considered:\n",
    "    tdf = df.loc[domain]\n",
    "    tdf = tdf.reindex(model_name_correction.keys())\n",
    "    x = tdf['program_size']\n",
    "    y = tdf['skill_level']\n",
    "    for model in model_name_correction.keys():\n",
    "        x = tdf.loc[model]['program_size']\n",
    "        y = tdf.loc[model]['skill_level']\n",
    "        color = model_colormap[model_name_correction[model]]\n",
    "        sns.scatterplot(x=[x],y=[y],color=color,s=S,alpha=ALPHA)\n",
    "\n",
    "plt.tight_layout()\n",
    "#Dummy Plot to Generate Legend\n",
    "markers = [plt.Line2D([0,0],[0,0],color=color, marker='o', linestyle='') for color in model_colormap.values()]\n",
    "plt.legend(markers,model_colormap.keys())\n",
    "plt.title(f\"{ylabel} vs {xlabel}\",loc=\"center\")\n",
    "plt.show()"
   ]
  },
  {
   "cell_type": "markdown",
   "id": "f30b83f9",
   "metadata": {
    "heading_collapsed": "true",
    "tags": []
   },
   "source": [
    "#### Compute Vs Average Performance ( $\\theta$ ) "
   ]
  },
  {
   "cell_type": "code",
   "execution_count": null,
   "id": "8551c01d",
   "metadata": {},
   "outputs": [],
   "source": [
    "results_ct = {\"IS\":[],\"avg_perf\":[],\"compute\":[],\"g_index\":[]}\n",
    "for exp_file in EXP_FILES:\n",
    "    exp  = Experiment(exp_file)\n",
    "    exp_c = exp.get_exp_components(return_raw_experience=True)\n",
    "    IS = exp_c.IS\n",
    "    avg_perf = exp_c.AveragePerformance\n",
    "    compute = exp_c.E\n",
    "    g_index = exp.calculate_g_index()\n",
    "    results_ct['IS'].append(model_name_correction[IS])\n",
    "    results_ct['avg_perf'].append(avg_perf)\n",
    "    results_ct['compute'].append(compute)\n",
    "    results_ct['g_index'].append(g_index)"
   ]
  },
  {
   "cell_type": "code",
   "execution_count": null,
   "id": "6d829641-227f-4fc3-a63d-9f2ed33367bf",
   "metadata": {},
   "outputs": [],
   "source": [
    "g_i_dots_scales = [ scale_dots( min(gi),max(gi), c) for c in results_ct['g_index'] ]\n",
    "data_list = [ [x,y,marker_size,model_name] for (x,y,marker_size,model_name) in zip(results_ct['compute'],results_ct['avg_perf'],g_i_dots_scales,results_ct['IS']) ]"
   ]
  },
  {
   "cell_type": "code",
   "execution_count": null,
   "id": "48e708b9-d279-4756-98ae-7174eca0e36e",
   "metadata": {},
   "outputs": [],
   "source": [
    "fig,axes = plt.subplots()\n",
    "ylabel = \"Performance\"\n",
    "xlabel = \"Compute\"\n",
    "plt.xlabel(xlabel)\n",
    "plt.ylabel(ylabel)\n",
    "plt.ylim(0,1.01)\n",
    "\n",
    "for entry in data_list:\n",
    "    sns.scatterplot(x=[entry[0]],y=[entry[1]],color=model_colormap[entry[3]],s=entry[2],alpha=0.85)\n",
    "markers = [plt.Line2D([0,0],[0,0],color=color, marker='o', linestyle='') for color in model_colormap.values()]\n",
    "plt.legend(markers,model_colormap.keys())\n",
    "plt.tight_layout()\n",
    "plt.title(f\"{ylabel} vs {xlabel}\",loc=\"center\")\n",
    "plt.show()"
   ]
  },
  {
   "cell_type": "markdown",
   "id": "76380f76",
   "metadata": {
    "heading_collapsed": "true",
    "tags": []
   },
   "source": [
    "## 5. Request the data"
   ]
  },
  {
   "cell_type": "markdown",
   "id": "9f854d9f",
   "metadata": {},
   "source": [
    "You can send us a mail at [humans@mayahq.com](mailto:humans@mayahq.com) breifly describing your use case to get the data."
   ]
  },
  {
   "cell_type": "markdown",
   "id": "04f77be4",
   "metadata": {
    "heading_collapsed": "true",
    "tags": []
   },
   "source": [
    "## 6. Cite us!"
   ]
  },
  {
   "cell_type": "markdown",
   "id": "3b706cfa",
   "metadata": {},
   "source": [
    "TODO"
   ]
  }
 ],
 "metadata": {
  "kernelspec": {
   "display_name": "Python 3 (ipykernel)",
   "language": "python",
   "name": "python3"
  },
  "language_info": {
   "codemirror_mode": {
    "name": "ipython",
    "version": 3
   },
   "file_extension": ".py",
   "mimetype": "text/x-python",
   "name": "python",
   "nbconvert_exporter": "python",
   "pygments_lexer": "ipython3",
   "version": "3.8.10"
  },
  "toc-autonumbering": false,
  "toc-showmarkdowntxt": false
 },
 "nbformat": 4,
 "nbformat_minor": 5
}
