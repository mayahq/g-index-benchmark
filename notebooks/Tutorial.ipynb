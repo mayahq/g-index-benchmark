{
 "cells": [
  {
   "cell_type": "markdown",
   "id": "8be2e79b",
   "metadata": {
    "tags": []
   },
   "source": [
    "## Imports"
   ]
  },
  {
   "cell_type": "code",
   "execution_count": null,
   "id": "ae536a43",
   "metadata": {},
   "outputs": [],
   "source": [
    "import glob\n",
    "import json\n",
    "import os\n",
    "import sys\n",
    "from collections import defaultdict\n",
    "from os import PathLike\n",
    "from pprint import pprint\n",
    "from statistics import mean\n",
    "from typing import Union\n",
    "\n",
    "import matplotlib.pyplot as plt\n",
    "import numpy as np\n",
    "import pandas as pd\n",
    "import seaborn as sns\n",
    "from tqdm import tqdm\n",
    "\n",
    "module_path = os.path.abspath(os.path.join(\"..\"))\n",
    "if module_path not in sys.path:\n",
    "    sys.path.append(module_path)\n",
    "\n",
    "import ipywidgets as widgets\n",
    "from ipywidgets import Dropdown, FloatLogSlider, FloatSlider, IntSlider, interact\n",
    "\n",
    "from g_index import Experiment\n",
    "from node_utils import node_divergence\n",
    "from utils import *\n",
    "\n",
    "# Experiment Settings\n",
    "EXP_ROOT = \"../experiments/\"\n",
    "EXP_FILES = glob.glob(EXP_ROOT + \"/*.json\")\n",
    "DD_CACHE = cache_dd()\n",
    "DOMAIN_LENGTHS = get_domain_lengths(AVAILABLE_DOMAINS)\n",
    "\n",
    "##Plot Settings\n",
    "ALPHA, S = 0.90, 240\n",
    "FIGSIZE = (16,9)\n",
    "LABEL_SIZE = 24\n",
    "TICK_SIZE = 20\n",
    "TITLE_SIZE = 24\n",
    "LEGEND_SIZE = 20\n",
    "plt.rcParams.update(\n",
    "    {\n",
    "        \"figure.figsize\": (16, 9),\n",
    "        \"font.size\": 24,\n",
    "        \"lines.color\": \"black\",\n",
    "        \"patch.edgecolor\": \"white\",\n",
    "        \"axes.edgecolor\": \"0.15\",\n",
    "        \"axes.linewidth\": 1.25,\n",
    "        \"axes.grid\": True,\n",
    "        \"savefig.facecolor\": \"white\",\n",
    "        \"savefig.edgecolor\": \"white\",\n",
    "        \"xtick.major.size\": 20,\n",
    "        \"legend.fontsize\": 20,\n",
    "        \"legend.handlelength\": 2,\n",
    "        \"axes.titlesize\": 22,\n",
    "    }\n",
    ")\n",
    "\n",
    "colors = [\"#375E97\", \"#FB6542\", \"#FFBB00\", \"#3F681C\"]\n",
    "sim_colors = [\"#C03221\", \"#A049AB\", \"#3C28B8\", \"#545E75\", \"#3F826D\"]\n",
    "models = [\"gpt2-774M\", \"gpt2-345M\", \"gpt2-1.5B\", \"gptneo-2.7B\"]\n",
    "model_colormap = {model: color for color, model in zip(colors, models)}\n",
    "model_name_correction = {\n",
    "    \"gpt2-medium\": \"gpt2-345M\",\n",
    "    \"gpt2-large\": \"gpt2-774M\",\n",
    "    \"gpt2-xl\": \"gpt2-1.5B\",\n",
    "    \"EleutherAI gpt-neo-2.7B\": \"gptneo-2.7B\",\n",
    "}"
   ]
  },
  {
   "cell_type": "markdown",
   "id": "3a641038-ec0e-4e00-aca0-08f046e6274e",
   "metadata": {},
   "source": [
    "## Disclaimer"
   ]
  },
  {
   "cell_type": "markdown",
   "id": "925456a7-dce7-456e-bc9c-fdb9b647211f",
   "metadata": {},
   "source": [
    "The experiments data & the domain samples provided are a small fraction of the data used during the research.\n",
    "Due to this, the results & values in the upcoming section may vary from the reported results. <br>\n",
    "People interested can refer `Section 5` to request data."
   ]
  },
  {
   "cell_type": "markdown",
   "id": "d9d1f141",
   "metadata": {
    "tags": []
   },
   "source": [
    "## 1. Domains"
   ]
  },
  {
   "cell_type": "markdown",
   "id": "b090b237",
   "metadata": {
    "tags": []
   },
   "source": [
    "### What are domains"
   ]
  },
  {
   "cell_type": "markdown",
   "id": "646e9a52",
   "metadata": {},
   "source": [
    "TODO"
   ]
  },
  {
   "cell_type": "markdown",
   "id": "f5caad3e",
   "metadata": {
    "tags": []
   },
   "source": [
    "### List of Available Domains"
   ]
  },
  {
   "cell_type": "code",
   "execution_count": null,
   "id": "1f289561",
   "metadata": {},
   "outputs": [],
   "source": [
    "for i, domain in enumerate(AVAILABLE_DOMAINS):\n",
    "    print(i, \" \", domain)"
   ]
  },
  {
   "cell_type": "markdown",
   "id": "e0eb7a33",
   "metadata": {
    "tags": []
   },
   "source": [
    "### What is Domain Distance"
   ]
  },
  {
   "cell_type": "markdown",
   "id": "0c9fd088",
   "metadata": {},
   "source": [
    "TODO (ADD description ) <br>\n",
    "Domain distance ( or similarity )  can be calculated between any two domains either"
   ]
  },
  {
   "cell_type": "markdown",
   "id": "393748be",
   "metadata": {
    "tags": []
   },
   "source": [
    "### Calculating domain distance between two domains"
   ]
  },
  {
   "cell_type": "markdown",
   "id": "996aae2b",
   "metadata": {},
   "source": [
    "Domain distance can be calculated between any two domains in `AVAILABLE_DOMAINS`"
   ]
  },
  {
   "cell_type": "code",
   "execution_count": null,
   "id": "7a3e26e0-915c-4837-8c95-5ce5cfd0d395",
   "metadata": {},
   "outputs": [],
   "source": [
    "domain_1 = Dropdown(options=AVAILABLE_DOMAINS, description=\"Domain 1\")\n",
    "domain_2 = Dropdown(options=AVAILABLE_DOMAINS, description=\"Domain 2\")\n",
    "\n",
    "\n",
    "@interact(domain_1=domain_1, domain_2=domain_2)\n",
    "def get_dd_i(domain_1, domain_2):\n",
    "    print(calculate_dd(domain_1, domain_2))"
   ]
  },
  {
   "cell_type": "markdown",
   "id": "7a66d8c3",
   "metadata": {
    "tags": []
   },
   "source": [
    "### Calculating Domain Distance between two JSON files"
   ]
  },
  {
   "cell_type": "markdown",
   "id": "c89776d0",
   "metadata": {},
   "source": [
    "Treating each file as it's own domain with a single sample Domain Distance can be calculated between two domain files."
   ]
  },
  {
   "cell_type": "code",
   "execution_count": null,
   "id": "ecaa1a4d",
   "metadata": {},
   "outputs": [],
   "source": [
    "domain_1 = widgets.Text(\n",
    "    value=\"../domains/youtube-pause/youtube-pause-6e696d.json\",\n",
    "    placeholder=\"Enter Relative File Path\",\n",
    "    description=\"Domain 1 :\",\n",
    "    disabled=False,\n",
    ")\n",
    "domain_2 = widgets.Text(\n",
    "    value=\"../domains/facebook/facebook-b4ee9a.json\",\n",
    "    placeholder=\"Enter Relative File Path \",\n",
    "    description=\"Domain 2 :\",\n",
    "    disabled=False,\n",
    ")\n",
    "\n",
    "\n",
    "@interact(domain_1=domain_1, domain_2=domain_2)\n",
    "def get_dd_files_i(domain_1, domain_2):\n",
    "    dd = calculate_dd(domain_1, domain_2)\n",
    "    if dd is not None:\n",
    "        print(f\"DD: {dd}\")"
   ]
  },
  {
   "cell_type": "markdown",
   "id": "248b06d2",
   "metadata": {
    "tags": []
   },
   "source": [
    "### Plotting the Domain Distance Matrix"
   ]
  },
  {
   "cell_type": "markdown",
   "id": "fdaa45e1-b577-4ae8-8900-a46ca091a0fc",
   "metadata": {},
   "source": [
    "Domain Distance between various domain can easily be visualised with the following heatmap.\n"
   ]
  },
  {
   "cell_type": "code",
   "execution_count": null,
   "id": "15581a89",
   "metadata": {},
   "outputs": [],
   "source": [
    "sns.set(rc={\"figure.figsize\": (16, 12)})\n",
    "generate_dd_matrix()"
   ]
  },
  {
   "cell_type": "markdown",
   "id": "6110a38a",
   "metadata": {
    "tags": []
   },
   "source": [
    "## 2. Experiments"
   ]
  },
  {
   "cell_type": "markdown",
   "id": "2cdf1253",
   "metadata": {
    "tags": []
   },
   "source": [
    "### What is an Experiment? "
   ]
  },
  {
   "cell_type": "markdown",
   "id": "3b3be43f",
   "metadata": {},
   "source": [
    "TODO"
   ]
  },
  {
   "cell_type": "markdown",
   "id": "30a09354",
   "metadata": {
    "tags": []
   },
   "source": [
    "### Components of an experiment"
   ]
  },
  {
   "cell_type": "markdown",
   "id": "47623271",
   "metadata": {},
   "source": [
    "The Major Components of an experiment are:\n",
    "1. Intelligent System(`IS`): \n",
    "2. Curricula Domains: \n",
    "3. Task Domains:\n",
    "4. Experience(`E`):\n",
    "5. Generalization Difficulty( `GD` ): \n",
    "6. Performance Details \n",
    "7. AveragePerformance"
   ]
  },
  {
   "cell_type": "code",
   "execution_count": null,
   "id": "e1419a94",
   "metadata": {},
   "outputs": [],
   "source": [
    "experiments = Dropdown(options=EXP_FILES, description=\"Experiments\")\n",
    "@interact(exp_file=experiments,truncate_domains=True)\n",
    "def print_exp_components_i(exp_file, truncate_domains=False):\n",
    "    exp = Experiment(exp_file)\n",
    "    exp.get_exp_components(truncate_domains=truncate_domains, print_members=True)"
   ]
  },
  {
   "cell_type": "markdown",
   "id": "319800b3",
   "metadata": {
    "tags": []
   },
   "source": [
    "## 3. g-index"
   ]
  },
  {
   "cell_type": "markdown",
   "id": "b4a5976c",
   "metadata": {
    "tags": []
   },
   "source": [
    "### What is `g-index`?"
   ]
  },
  {
   "cell_type": "markdown",
   "id": "a1aaca83",
   "metadata": {},
   "source": [
    "TODO"
   ]
  },
  {
   "cell_type": "markdown",
   "id": "55de96c1",
   "metadata": {
    "heading_collapsed": "true",
    "tags": []
   },
   "source": [
    "### Calculating `g-index` from an experiment files"
   ]
  },
  {
   "cell_type": "markdown",
   "id": "93e45dca",
   "metadata": {},
   "source": [
    "Steps:\n",
    "1. Select an Experiment file in the Experiment Class\n",
    "2. Run `calculate_g_index` function"
   ]
  },
  {
   "cell_type": "code",
   "execution_count": null,
   "id": "35f38bfe",
   "metadata": {},
   "outputs": [],
   "source": [
    "experiments = Dropdown(options=EXP_FILES, description=\"Experiments\")\n",
    "@interact(exp_file=experiments)\n",
    "def get_g_index_i(exp_file):\n",
    "    exp = Experiment(exp_file)\n",
    "    print(f\"g-index: {exp.calculate_g_index()}\")"
   ]
  },
  {
   "cell_type": "markdown",
   "id": "bf3588e3",
   "metadata": {
    "heading_collapsed": "true",
    "tags": []
   },
   "source": [
    "### Calculating `g-index` from Values"
   ]
  },
  {
   "cell_type": "code",
   "execution_count": null,
   "id": "18da0d8d",
   "metadata": {},
   "outputs": [],
   "source": [
    "style = {\"description_width\": \"100px\"}\n",
    "n_tasks_domain = IntSlider(value=5,min=1,max=100,step=1,description=\"Samples per Task domain\",style=style)\n",
    "n_curricula_domain = IntSlider(value=5,min=1,max=100,step=1,description=\"Samples per Curricula domain\",style=style)\n",
    "sim_dd = FloatSlider(value=0.0,min=0.0,max=1.00,step=0.01,description=\"Generalization Difficulty\",style=style)\n",
    "sim_P = FloatLogSlider(value=-3, min=-10, max=10, step=1, description=\"Prior\", style=style)\n",
    "sim_E = FloatLogSlider(value=1, min=1, max=12, step=1, description=\"Experience\", style=style)\n",
    "sim_PTheta = FloatSlider(value=0.1,min=0.00,max=1.00,step=0.01,description=\"Performance θ\",style=style)\n",
    "\n",
    "\n",
    "@interact(n_tasks_domain= n_tasks_domain,n_curricula_domain = n_curricula_domain,sim_dd = sim_dd,sim_P= sim_P,sim_E = sim_E,sim_PTheta = sim_PTheta)\n",
    "def get_g_index_sim_i(n_tasks_domain,n_curricula_domain,sim_dd,sim_P,sim_E,sim_PTheta):\n",
    "    exp = Experiment()\n",
    "    return exp.simulate_g_index(n_tasks_domain= n_tasks_domain,n_curricula_domain = n_curricula_domain,sim_dd = sim_dd,sim_P= sim_P,sim_E = sim_E,sim_PTheta = sim_PTheta)"
   ]
  },
  {
   "cell_type": "markdown",
   "id": "70ce4cca",
   "metadata": {
    "heading_collapsed": "true",
    "tags": []
   },
   "source": [
    "## 4. Reproducing results mentioned in the paper"
   ]
  },
  {
   "cell_type": "markdown",
   "id": "f802d3dd",
   "metadata": {
    "tags": []
   },
   "source": [
    "### Section-3 Simulation Plots"
   ]
  },
  {
   "cell_type": "markdown",
   "id": "1c9ca277",
   "metadata": {
    "heading_collapsed": "true",
    "tags": []
   },
   "source": [
    "#### g-index vs Training Samples ( for varying $\\theta$ ) "
   ]
  },
  {
   "cell_type": "code",
   "execution_count": null,
   "id": "ee56377b",
   "metadata": {},
   "outputs": [],
   "source": [
    "ns_curricula_domain = [\n",
    "    20 * i for i in range(1, 33)\n",
    "]  # No of Samples per domain from 20 to 640\n",
    "sim_PthetaValues = np.around(\n",
    "    np.arange(0.2, 1.2, 0.2), 2\n",
    ").tolist()  # Performance Theta Values from 0.2 to 1.0\n",
    "num_domains = len(AVAILABLE_DOMAINS)\n",
    "n_tasks_domain = 5\n",
    "iters_per_domain = 20\n",
    "sim_E = 1e2\n",
    "sim_P = 1e-2\n",
    "sim_dd = None\n",
    "dd_cache = cache_dd() # To speed up the simulations by using precalculated domain distances across domains"
   ]
  },
  {
   "cell_type": "code",
   "execution_count": null,
   "id": "83bdd7b4",
   "metadata": {},
   "outputs": [],
   "source": [
    "results_gt = defaultdict(dict)\n",
    "for sim_Ptheta in tqdm(sim_PthetaValues):\n",
    "    dummy_exp = Experiment(dd_cache=dd_cache)\n",
    "    ns_gi = {\"samples_per_domain\": [], \"g_index\": []}\n",
    "    for ns_per_domain in ns_curricula_domain:\n",
    "        for _ in range(iters_per_domain):\n",
    "            # Randomly distribute samples across domains\n",
    "            CurriculaDistribution = dict(\n",
    "                zip(AVAILABLE_DOMAINS, resplit(ns_per_domain, num_domains))\n",
    "            )\n",
    "            g_index = dummy_exp.simulate_g_index(\n",
    "                n_tasks_domain=n_tasks_domain,\n",
    "                sim_P=sim_P,\n",
    "                sim_E=sim_E,\n",
    "                sim_PTheta=sim_Ptheta,\n",
    "                CurriculaDistribution=CurriculaDistribution,\n",
    "                sim_dd=sim_dd,\n",
    "            )\n",
    "            ns_gi[\"samples_per_domain\"].append(ns_per_domain)\n",
    "            ns_gi[\"g_index\"].append(g_index)\n",
    "    results_gt[sim_Ptheta] = ns_gi"
   ]
  },
  {
   "cell_type": "code",
   "execution_count": null,
   "id": "191cf6cf",
   "metadata": {},
   "outputs": [],
   "source": [
    "fig, axes = plt.subplots(figsize=FIGSIZE)\n",
    "xlabel = \"Training Samples (per domain)\"\n",
    "ylabel = \"g-index\"\n",
    "plt.xlabel(xlabel, fontsize=LABEL_SIZE)\n",
    "plt.ylabel(ylabel, fontsize=LABEL_SIZE)\n",
    "axes.tick_params(labelsize=TICK_SIZE)\n",
    "axes.tick_params(labelsize=TICK_SIZE)\n",
    "axes.set_xticks([0])\n",
    "axes.set_yticks([0])\n",
    "plt.xlim(20, 640)\n",
    "\n",
    "for idx, sim_Ptheta in enumerate(results_gt.keys()):\n",
    "    vals = results_gt[sim_Ptheta]\n",
    "    x = vals[\"samples_per_domain\"]\n",
    "    y = vals[\"g_index\"]\n",
    "    # Curve Smoothing with 3 degree poly\n",
    "    fx = np.poly1d(np.polyfit(np.array(x), np.array(y), 3))\n",
    "    z = fx(x)\n",
    "    sns.lineplot(x=x, y=y, ax=axes, legend=False,linewidth=0, color=sim_colors[idx])\n",
    "    sns.lineplot(x=x,y=z,ax=axes,legend=False,linewidth=2,label=f\"$\\\\theta$ = {sim_Ptheta}\",color=sim_colors[idx])\n",
    "plt.legend(loc=\"upper right\", labelcolor=\"black\",fontsize=LEGEND_SIZE)\n",
    "plt.tight_layout()\n",
    "plt.title(f\"{ylabel} vs {xlabel}\", loc=\"center\", fontsize=TITLE_SIZE)\n",
    "plt.show()"
   ]
  },
  {
   "cell_type": "markdown",
   "id": "356e73a1",
   "metadata": {
    "heading_collapsed": "true",
    "tags": []
   },
   "source": [
    "#### g-index vs Compute ( for varying $\\theta$ ) "
   ]
  },
  {
   "cell_type": "code",
   "execution_count": null,
   "id": "cd7cfa44",
   "metadata": {},
   "outputs": [],
   "source": [
    "sim_PthetaValues = np.around(\n",
    "    np.arange(0.2, 1.2, 0.2), 2\n",
    ").tolist()  # Performance Theta Values from 0.2 to 1.0\n",
    "sim_compute_steps = [50 * i for i in range(1, 31)]\n",
    "n_samples_per_domain = 40\n",
    "n_tasks_domain = 5\n",
    "num_domains = len(AVAILABLE_DOMAINS)\n",
    "sim_P = 1e-2\n",
    "iters_per_compute_step = 5\n",
    "dd_cache = cache_dd()\n",
    "sim_dd = None"
   ]
  },
  {
   "cell_type": "code",
   "execution_count": null,
   "id": "6ac682f4",
   "metadata": {},
   "outputs": [],
   "source": [
    "results_gcp = defaultdict(dict)\n",
    "\n",
    "for sim_Ptheta in tqdm(sim_PthetaValues):\n",
    "    dummy_exp = Experiment(dd_cache=dd_cache)\n",
    "    gi = {\"compute\": [], \"g_index\": []}\n",
    "    for sim_E in sim_compute_steps:\n",
    "        for itp in range(iters_per_compute_step):\n",
    "\n",
    "            CurriculaDistribution = dict(zip(AVAILABLE_DOMAINS, resplit(n_samples_per_domain, num_domains)))\n",
    "            g_index = dummy_exp.simulate_g_index(\n",
    "                n_tasks_domain=n_tasks_domain,\n",
    "                sim_P=sim_P,\n",
    "                sim_E=sim_E,\n",
    "                sim_PTheta=sim_Ptheta,\n",
    "                CurriculaDistribution=CurriculaDistribution,\n",
    "                sim_dd=sim_dd,\n",
    "            )\n",
    "            gi[\"compute\"].append(sim_E)\n",
    "            gi[\"g_index\"].append(g_index)\n",
    "\n",
    "    results_gcp[sim_Ptheta] = gi"
   ]
  },
  {
   "cell_type": "code",
   "execution_count": null,
   "id": "8c07134d",
   "metadata": {},
   "outputs": [],
   "source": [
    "fig, axes = plt.subplots(figsize=FIGSIZE)\n",
    "xlabel = \"Compute\"\n",
    "ylabel = \"g-index\"\n",
    "plt.xlim(50, 1600)\n",
    "plt.xlabel(xlabel, fontsize=LABEL_SIZE)\n",
    "plt.ylabel(ylabel, fontsize=LABEL_SIZE)\n",
    "axes.tick_params(labelsize=TICK_SIZE)\n",
    "axes.tick_params(labelsize=TICK_SIZE)\n",
    "axes.set_xticks([0])\n",
    "axes.set_yticks([0])\n",
    "\n",
    "for idx, sim_Ptheta in enumerate(results_gcp.keys()):\n",
    "    vals = results_gcp.get(sim_Ptheta)\n",
    "    x = vals[\"compute\"]\n",
    "    y = vals[\"g_index\"]\n",
    "    sns.lineplot(x=x, y=y, ax=axes, legend=False, linewidth=0, color=sim_colors[idx])\n",
    "    sns.lineplot(x=x,y=y,ax=axes,legend=False,linewidth=2,label=f\"$\\\\theta$ = {sim_Ptheta}\",color=sim_colors[idx])\n",
    "\n",
    "plt.legend(loc=\"upper right\", labelcolor=\"black\",fontsize=LEGEND_SIZE)\n",
    "plt.tight_layout()\n",
    "plt.title(f\"{ylabel} vs {xlabel}\", loc=\"center\",fontsize=LEGEND_SIZE)\n",
    "plt.show()"
   ]
  },
  {
   "cell_type": "markdown",
   "id": "53c21dba",
   "metadata": {
    "heading_collapsed": "true",
    "tags": []
   },
   "source": [
    "#### G-index vs $\\theta$ ( for varying $\\Omega$ ) HeatMap"
   ]
  },
  {
   "cell_type": "code",
   "execution_count": null,
   "id": "0caef6d1",
   "metadata": {},
   "outputs": [],
   "source": [
    "sim_PthetaValues = np.around(np.linspace(0.00, 1, 50), 2)\n",
    "n_tasks_domain = 5\n",
    "n_curricula_domain = 40\n",
    "num_domains = len(AVAILABLE_DOMAINS)\n",
    "\n",
    "sim_E = 1e2\n",
    "sim_P = 1e-2\n",
    "n_iters_per_temp = 10\n",
    "dd_cache = cache_dd()\n",
    "sim_dd = None"
   ]
  },
  {
   "cell_type": "code",
   "execution_count": null,
   "id": "c937fadb",
   "metadata": {},
   "outputs": [],
   "source": [
    "results_gt = defaultdict(dict)\n",
    "\n",
    "for sim_PTheta in tqdm(sim_PthetaValues):\n",
    "    gi_dd = {\"theta\": [], \"g_index\": [], \"domain_distance\": []}\n",
    "    dummy_exp = Experiment()\n",
    "    for _ in range(n_iters_per_temp):\n",
    "\n",
    "        random_dd = {\n",
    "            tA: {\n",
    "                tB: val\n",
    "                for tB, val in zip(\n",
    "                    AVAILABLE_DOMAINS,\n",
    "                    np.clip(np.random.normal(0.5, 0.4, 16), 0, 1).tolist(),\n",
    "                )\n",
    "            }\n",
    "            for tA in AVAILABLE_DOMAINS\n",
    "        }\n",
    "        g_index = dummy_exp.simulate_g_index(\n",
    "            n_tasks_domain=n_tasks_domain,\n",
    "            n_curricula_domain=n_curricula_domain,\n",
    "            sim_P=sim_P,\n",
    "            sim_E=sim_E,\n",
    "            sim_PTheta=sim_PTheta,\n",
    "            sim_dd=random_dd,\n",
    "        )\n",
    "\n",
    "        gi_dd[\"theta\"].append(sim_PTheta)\n",
    "        gi_dd[\"g_index\"].append(g_index)\n",
    "        # get random row and just get it's domain_dist average\n",
    "        gi_dd[\"domain_distance\"].append(random_row_mean(random_dd))\n",
    "    results_gt[sim_PTheta] = gi_dd"
   ]
  },
  {
   "cell_type": "code",
   "execution_count": null,
   "id": "e7efd930",
   "metadata": {},
   "outputs": [],
   "source": [
    "ylabel = \"g-index\"\n",
    "xlabel = \"$\\\\theta$\"\n",
    "fig, axes = plt.subplots(figsize=FIGSIZE)\n",
    "plt.xlabel(xlabel, fontsize=LABEL_SIZE)\n",
    "plt.ylabel(ylabel, fontsize=LABEL_SIZE)\n",
    "axes.tick_params(labelsize=TICK_SIZE)\n",
    "axes.tick_params(labelsize=TICK_SIZE)\n",
    "plt.xlim(0, 1.01)\n",
    "plt.ylim(0, 4000)\n",
    "\n",
    "xtotal, ytotal = [], []\n",
    "for sim_PTheta in results_gt.keys():\n",
    "    vals = results_gt.get(sim_PTheta)\n",
    "    x = vals[\"theta\"]\n",
    "    y = vals[\"g_index\"]\n",
    "    h = vals[\"domain_distance\"]\n",
    "    xtotal.extend(x)\n",
    "    ytotal.extend(y)\n",
    "\n",
    "    sns.scatterplot(\n",
    "        x=x, y=y, hue=h, ax=axes, legend=False, s=S, alpha=ALPHA, palette=\"rocket\"\n",
    "    )\n",
    "fx = np.poly1d(np.polyfit(np.array(xtotal), np.array(ytotal), 3))\n",
    "z = fx(xtotal)\n",
    "\n",
    "sns.lineplot(x=xtotal, y=z, ax=axes, legend=False, linewidth=1, color=\"black\")\n",
    "sm = plt.cm.ScalarMappable(cmap=\"rocket\")\n",
    "axes.figure.colorbar(sm).set_label(label=\"Domain Distance\",size=LEGEND_SIZE)\n",
    "\n",
    "plt.tight_layout()\n",
    "plt.title(f\"{ylabel} vs {xlabel}\", loc=\"center\",fontsize=TITLE_SIZE)\n",
    "plt.show()"
   ]
  },
  {
   "cell_type": "markdown",
   "id": "6648066a",
   "metadata": {
    "tags": []
   },
   "source": [
    "### Section-4 Experiment Plots"
   ]
  },
  {
   "cell_type": "markdown",
   "id": "3ec1c811",
   "metadata": {
    "heading_collapsed": "true",
    "tags": []
   },
   "source": [
    "#### Average Performance ( $\\theta$ )  vs Training Samples"
   ]
  },
  {
   "cell_type": "code",
   "execution_count": null,
   "id": "a9715e02",
   "metadata": {},
   "outputs": [],
   "source": [
    "results = {\"IS\": [], \"avg_perf\": [], \"total_samples\": [], \"g_index\": []}\n",
    "for exp_file in EXP_FILES:\n",
    "    exp = Experiment(exp_file)\n",
    "    exp_c = exp.get_exp_components()\n",
    "    avg_perf = exp_c.AveragePerformance\n",
    "    IS = exp_c.IS\n",
    "    CurriculaDomains = exp_c.CurriculaDomains\n",
    "    total_samples = sum([domain[\"num_samples\"] for domain in CurriculaDomains])\n",
    "    g_index = exp.calculate_g_index()\n",
    "\n",
    "    results[\"IS\"].append(IS)\n",
    "    results[\"avg_perf\"].append(avg_perf)\n",
    "    results[\"total_samples\"].append(total_samples)\n",
    "    results[\"g_index\"].append(g_index)"
   ]
  },
  {
   "cell_type": "code",
   "execution_count": null,
   "id": "7265141f",
   "metadata": {},
   "outputs": [],
   "source": [
    "gi = results[\"g_index\"]\n",
    "g_i_dots_scales = [scale_dots(min(gi), c) for c in gi]\n",
    "data_list = [\n",
    "    [x, y, model_name, marker_size]\n",
    "    for (x, y, model_name, marker_size) in zip(\n",
    "        results[\"total_samples\"], results[\"avg_perf\"], results[\"IS\"], g_i_dots_scales)]"
   ]
  },
  {
   "cell_type": "code",
   "execution_count": null,
   "id": "f2f3915f",
   "metadata": {},
   "outputs": [],
   "source": [
    "fig, axes = plt.subplots()\n",
    "ylabel = \"$\\\\theta$\"\n",
    "xlabel = \"Training Samples\"\n",
    "plt.xlabel(xlabel, fontsize=LABEL_SIZE)\n",
    "plt.ylabel(ylabel, fontsize=LABEL_SIZE)\n",
    "axes.tick_params(labelsize=TICK_SIZE)\n",
    "axes.tick_params(labelsize=TICK_SIZE)\n",
    "plt.ylim(0, 1)\n",
    "\n",
    "for entry in data_list:\n",
    "    color = model_colormap[model_name_correction[entry[2]]]\n",
    "    sns.scatterplot(x=[entry[0]], y=[entry[1]], color=color, s=S, alpha=ALPHA)\n",
    "\n",
    "plt.tight_layout()\n",
    "# Dummy plot to generate legend\n",
    "markers = [\n",
    "    plt.Line2D([0, 0], [0, 0], color=color, marker=\"o\", linestyle=\"\")\n",
    "    for color in model_colormap.values()\n",
    "]\n",
    "plt.legend(markers, model_colormap.keys(),fontsize=LEGEND_SIZE)\n",
    "plt.title(f\"{ylabel} vs {xlabel}\", loc=\"center\",fontsize=TITLE_SIZE)\n",
    "plt.show()"
   ]
  },
  {
   "cell_type": "markdown",
   "id": "ef5a1935",
   "metadata": {
    "heading_collapsed": "true",
    "tags": []
   },
   "source": [
    "#### Average Domain Performance ( $\\theta$ ) vs Program Size"
   ]
  },
  {
   "cell_type": "code",
   "execution_count": null,
   "id": "4446c669",
   "metadata": {},
   "outputs": [],
   "source": [
    "domains_considered = AVAILABLE_DOMAINS\n",
    "results_pst = {\"IS\": [], \"domain_name\": [], \"program_size\": [], \"theta\": []}\n",
    "\n",
    "for exp_file in EXP_FILES:\n",
    "    exp = Experiment(exp_file)\n",
    "    for domain in domains_considered:\n",
    "        exp_c = exp.get_exp_components()\n",
    "        IS = exp_c.IS\n",
    "        perf_details = exp_c.PerformanceDetails\n",
    "        perf_details = next(item for item in perf_details if item[\"name\"] == domain)\n",
    "        program_size = DOMAIN_LENGTHS[domain]\n",
    "\n",
    "        results_pst[\"IS\"].append(IS)\n",
    "        results_pst[\"domain_name\"].append(domain)\n",
    "        results_pst[\"program_size\"].append(program_size)\n",
    "        results_pst[\"theta\"].append(perf_details[\"performance\"])\n",
    "df = pd.DataFrame(results_pst).groupby(by=[\"domain_name\", \"IS\"]).mean()"
   ]
  },
  {
   "cell_type": "code",
   "execution_count": null,
   "id": "7e98edea",
   "metadata": {},
   "outputs": [],
   "source": [
    "fig, axes = plt.subplots()\n",
    "xlabel = \"Program size\"\n",
    "ylabel = \"$\\\\theta$\"\n",
    "plt.xlabel(xlabel, fontsize=LABEL_SIZE)\n",
    "plt.ylabel(ylabel, fontsize=LABEL_SIZE)\n",
    "axes.tick_params(labelsize=TICK_SIZE)\n",
    "axes.tick_params(labelsize=TICK_SIZE)\n",
    "plt.ylim(0, 1)\n",
    "\n",
    "rl = list(results_pst.values())\n",
    "for temp in domains_considered:\n",
    "    tdf = df.loc[temp]\n",
    "    tdf = tdf.reindex(list(model_name_correction.keys()))\n",
    "    x = tdf[\"program_size\"]\n",
    "    y = tdf[\"theta\"]\n",
    "    for model in model_name_correction.keys():\n",
    "        x = tdf.loc[model][\"program_size\"]\n",
    "        y = tdf.loc[model][\"theta\"]\n",
    "        color = model_colormap[model_name_correction[model]]\n",
    "        sns.scatterplot(x=[x], y=[y], color=color, s=S, alpha=ALPHA)\n",
    "\n",
    "plt.tight_layout()\n",
    "# Dummy Plot to Generate Legend\n",
    "markers = [\n",
    "    plt.Line2D([0, 0], [0, 0], color=color, marker=\"o\", linestyle=\"\")\n",
    "    for color in model_colormap.values()\n",
    "]\n",
    "plt.legend(markers, model_colormap.keys(),fontsize=LEGEND_SIZE)\n",
    "plt.title(f\"{ylabel} vs {xlabel}\", loc=\"center\",fontsize=TITLE_SIZE)\n",
    "plt.show()"
   ]
  },
  {
   "cell_type": "markdown",
   "id": "ab45fec0",
   "metadata": {
    "heading_collapsed": "true",
    "tags": []
   },
   "source": [
    "#### Skill level vs Program Size "
   ]
  },
  {
   "cell_type": "code",
   "execution_count": null,
   "id": "439f1813",
   "metadata": {},
   "outputs": [],
   "source": [
    "results_def = {\"IS\": [], \"domain_name\": [], \"program_size\": [], \"skill_level\": []}\n",
    "for exp_file in EXP_FILES:\n",
    "    exp = Experiment(exp_file)\n",
    "    for domain in domains_considered:\n",
    "        exp_c = exp.get_exp_components()\n",
    "        IS = exp_c.IS\n",
    "        perf_details = exp_c.PerformanceDetails\n",
    "        perf_details = next(item for item in perf_details if item[\"name\"] == domain)\n",
    "        program_size = DOMAIN_LENGTHS[domain]\n",
    "        results_def[\"IS\"].append(IS)\n",
    "        results_def[\"domain_name\"].append(domain)\n",
    "        results_def[\"program_size\"].append(program_size)\n",
    "        results_def[\"skill_level\"].append(perf_details[\"perfects\"])\n",
    "df = pd.DataFrame(results_def).groupby(by=[\"domain_name\", \"IS\"]).mean()"
   ]
  },
  {
   "cell_type": "code",
   "execution_count": null,
   "id": "34492a4f",
   "metadata": {},
   "outputs": [],
   "source": [
    "fig, axes = plt.subplots()\n",
    "xlabel = \"Program size\"\n",
    "ylabel = \"Skill level\"\n",
    "plt.xlabel(xlabel, fontsize=LABEL_SIZE)\n",
    "plt.ylabel(ylabel, fontsize=LABEL_SIZE)\n",
    "axes.tick_params(labelsize=TICK_SIZE)\n",
    "axes.tick_params(labelsize=TICK_SIZE)\n",
    "plt.ylim(0, 1)\n",
    "\n",
    "rl = list(results_def.values())\n",
    "for domain in domains_considered:\n",
    "    tdf = df.loc[domain]\n",
    "    tdf = tdf.reindex(model_name_correction.keys())\n",
    "    x = tdf[\"program_size\"]\n",
    "    y = tdf[\"skill_level\"]\n",
    "    for model in model_name_correction.keys():\n",
    "        x = tdf.loc[model][\"program_size\"]\n",
    "        y = tdf.loc[model][\"skill_level\"]\n",
    "        color = model_colormap[model_name_correction[model]]\n",
    "        sns.scatterplot(x=[x], y=[y], color=color, s=S, alpha=ALPHA)\n",
    "\n",
    "plt.tight_layout()\n",
    "# Dummy Plot to Generate Legend\n",
    "markers = [\n",
    "    plt.Line2D([0, 0], [0, 0], color=color, marker=\"o\", linestyle=\"\")\n",
    "    for color in model_colormap.values()\n",
    "]\n",
    "plt.legend(markers, model_colormap.keys(),fontsize=LEGEND_SIZE)\n",
    "plt.title(f\"{ylabel} vs {xlabel}\", loc=\"center\",fontsize=TITLE_SIZE)\n",
    "plt.show()"
   ]
  },
  {
   "cell_type": "markdown",
   "id": "ca0e73b2",
   "metadata": {
    "heading_collapsed": "true",
    "tags": []
   },
   "source": [
    "#### Compute Vs Average Performance ( $\\theta$ ) "
   ]
  },
  {
   "cell_type": "code",
   "execution_count": null,
   "id": "9b943175",
   "metadata": {},
   "outputs": [],
   "source": [
    "results_ct = {\"IS\": [], \"avg_perf\": [], \"compute\": [], \"g_index\": []}\n",
    "for exp_file in EXP_FILES:\n",
    "    exp = Experiment(exp_file)\n",
    "    exp_c = exp.get_exp_components(return_raw_experience=True)\n",
    "    IS = exp_c.IS\n",
    "    avg_perf = exp_c.AveragePerformance\n",
    "    compute = exp_c.E\n",
    "    g_index = exp.calculate_g_index()\n",
    "    results_ct[\"IS\"].append(model_name_correction[IS])\n",
    "    results_ct[\"avg_perf\"].append(avg_perf)\n",
    "    results_ct[\"compute\"].append(compute)\n",
    "    results_ct[\"g_index\"].append(g_index)"
   ]
  },
  {
   "cell_type": "code",
   "execution_count": null,
   "id": "277ca4a8",
   "metadata": {},
   "outputs": [],
   "source": [
    "g_i_dots_scales = [scale_dots(min(gi), c) for c in results_ct[\"g_index\"]]\n",
    "data_list = [\n",
    "    [x, y, marker_size, model_name]\n",
    "    for (x, y, marker_size, model_name) in zip(\n",
    "        results_ct[\"compute\"], results_ct[\"avg_perf\"], g_i_dots_scales, results_ct[\"IS\"]\n",
    "    )\n",
    "]"
   ]
  },
  {
   "cell_type": "code",
   "execution_count": null,
   "id": "d76ddeb3",
   "metadata": {},
   "outputs": [],
   "source": [
    "fig, axes = plt.subplots()\n",
    "ylabel = \"Performance\"\n",
    "xlabel = \"Compute\"\n",
    "plt.xlabel(xlabel, fontsize=LABEL_SIZE)\n",
    "plt.ylabel(ylabel, fontsize=LABEL_SIZE)\n",
    "axes.tick_params(labelsize=TICK_SIZE)\n",
    "axes.tick_params(labelsize=TICK_SIZE)\n",
    "plt.ylim(0, 1.01)\n",
    "\n",
    "for entry in data_list:\n",
    "    sns.scatterplot(\n",
    "        x=[entry[0]],\n",
    "        y=[entry[1]],\n",
    "        color=model_colormap[entry[3]],\n",
    "        s=entry[2],\n",
    "        alpha=0.85,\n",
    "    )\n",
    "markers = [\n",
    "    plt.Line2D([0, 0], [0, 0], color=color, marker=\"o\", linestyle=\"\")\n",
    "    for color in model_colormap.values()\n",
    "]\n",
    "plt.legend(markers, model_colormap.keys(),fontsize=LEGEND_SIZE)\n",
    "plt.tight_layout()\n",
    "plt.title(f\"{ylabel} vs {xlabel}\", loc=\"center\",fontsize=TITLE_SIZE)\n",
    "plt.show()"
   ]
  },
  {
   "cell_type": "markdown",
   "id": "751e9746",
   "metadata": {
    "heading_collapsed": "true",
    "tags": []
   },
   "source": [
    "## 5. Request the data"
   ]
  },
  {
   "cell_type": "markdown",
   "id": "a30d14c6",
   "metadata": {},
   "source": [
    "You can send us a mail at [humans@mayahq.com](mailto:humans@mayahq.com) breifly describing your use case to get the data."
   ]
  },
  {
   "cell_type": "markdown",
   "id": "c30ebebd",
   "metadata": {
    "heading_collapsed": "true",
    "tags": []
   },
   "source": [
    "## 6. Cite us!"
   ]
  },
  {
   "cell_type": "markdown",
   "id": "561865da",
   "metadata": {},
   "source": [
    "TODO"
   ]
  }
 ],
 "metadata": {
  "kernelspec": {
   "display_name": "Python 3 (ipykernel)",
   "language": "python",
   "name": "python3"
  },
  "language_info": {
   "codemirror_mode": {
    "name": "ipython",
    "version": 3
   },
   "file_extension": ".py",
   "mimetype": "text/x-python",
   "name": "python",
   "nbconvert_exporter": "python",
   "pygments_lexer": "ipython3",
   "version": "3.8.10"
  },
  "toc-autonumbering": false,
  "toc-showmarkdowntxt": false
 },
 "nbformat": 4,
 "nbformat_minor": 5
}
