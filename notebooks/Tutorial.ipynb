{
 "cells": [
  {
   "cell_type": "markdown",
   "id": "d6dea4ef",
   "metadata": {
    "tags": []
   },
   "source": [
    "## Imports"
   ]
  },
  {
   "cell_type": "code",
   "execution_count": 1,
   "id": "97838be4",
   "metadata": {},
   "outputs": [],
   "source": [
    "import json\n",
    "import os\n",
    "import sys\n",
    "from collections import defaultdict\n",
    "import glob\n",
    "from pprint import pprint\n",
    "from os import PathLike\n",
    "from statistics import mean\n",
    "from typing import Union\n",
    "\n",
    "import matplotlib.pyplot as plt\n",
    "import numpy as np\n",
    "import pandas as pd\n",
    "import seaborn as sns\n",
    "import matplotlib.pyplot as plt\n",
    "from tqdm import tqdm\n",
    "\n",
    "module_path = os.path.abspath(os.path.join('..'))\n",
    "if module_path not in sys.path:\n",
    "    sys.path.append(module_path)\n",
    "\n",
    "from g_index import Experiment\n",
    "from node_utils import node_divergence\n",
    "from utils import *\n",
    "from ipywidgets import interact, interactive, fixed, interact_manual\n",
    "import ipywidgets as widgets\n",
    "\n",
    "\n",
    "#Experiment Settings\n",
    "EXP_ROOT = '../experiments/'\n",
    "EXP_FILES = glob.glob(EXP_ROOT+\"/*.json\")\n",
    "DD_CACHE = cache_dd()\n",
    "DOMAIN_LENGTHS = get_domain_lengths(AVAILABLE_DOMAINS)\n",
    "\n",
    "##Plot Settings\n",
    "ALPHA,S=0.90,240\n",
    "plt.rcParams.update({\n",
    "    \"figure.figsize\":(16,9),\n",
    "    \"font.size\": 24,\n",
    "    \"lines.color\": \"black\",\n",
    "    \"patch.edgecolor\": \"white\",\n",
    "    \"axes.edgecolor\": \"0.15\",\n",
    "    \"axes.linewidth\":1.25,\n",
    "    \"axes.grid\":True,\n",
    "    \"savefig.facecolor\": \"white\",\n",
    "    \"savefig.edgecolor\": \"white\",\n",
    "    \"xtick.major.size\":20,\n",
    "    'legend.fontsize': 20,\n",
    "    'legend.handlelength': 2\n",
    "    })\n",
    "\n",
    "colors = [\"#375E97\",\"#FB6542\",\"#FFBB00\",\"#3F681C\"]\n",
    "models = ['gpt2-774M','gpt2-345M','gpt2-1.5B','gptneo-2.7B']\n",
    "model_colormap = {model:color for color,model in zip(colors,models) }\n",
    "name_correction = {'gpt2-medium': 'gpt2-345M',\n",
    "                   'gpt2-large': 'gpt2-774M',\n",
    "                   'gpt2-xl': 'gpt2-1.5B',\n",
    "                   'EleutherAI/gpt-neo-2.7B': 'gptneo-2.7B'}"
   ]
  },
  {
   "cell_type": "markdown",
   "id": "4ee98a56",
   "metadata": {
    "heading_collapsed": "true",
    "tags": []
   },
   "source": [
    "## 1. Domains"
   ]
  },
  {
   "cell_type": "markdown",
   "id": "6f4dd65a",
   "metadata": {
    "heading_collapsed": "true",
    "tags": []
   },
   "source": [
    "### What are domains"
   ]
  },
  {
   "cell_type": "markdown",
   "id": "bc12f373",
   "metadata": {},
   "source": [
    "TODO"
   ]
  },
  {
   "cell_type": "markdown",
   "id": "33b8c177",
   "metadata": {
    "heading_collapsed": "true",
    "tags": []
   },
   "source": [
    "### List of Available Domains"
   ]
  },
  {
   "cell_type": "code",
   "execution_count": null,
   "id": "a76490d1",
   "metadata": {},
   "outputs": [],
   "source": [
    "for i,domain in enumerate(AVAILABLE_DOMAINS):\n",
    "    print(i,\" \",domain)"
   ]
  },
  {
   "cell_type": "markdown",
   "id": "b35372eb",
   "metadata": {
    "heading_collapsed": "true",
    "tags": []
   },
   "source": [
    "### What is Domain Distance"
   ]
  },
  {
   "cell_type": "markdown",
   "id": "d44ab64a",
   "metadata": {},
   "source": [
    "TODO"
   ]
  },
  {
   "cell_type": "markdown",
   "id": "bd751468",
   "metadata": {
    "heading_collapsed": "true",
    "tags": []
   },
   "source": [
    "### Calculating Domain Distance between two domains"
   ]
  },
  {
   "cell_type": "markdown",
   "id": "357f78f0",
   "metadata": {},
   "source": [
    "TODO"
   ]
  },
  {
   "cell_type": "code",
   "execution_count": null,
   "id": "a1621457",
   "metadata": {},
   "outputs": [],
   "source": [
    "domain_1 = 'telegram-2-reply'\n",
    "domain_2 = 'telegram-3-reply'\n",
    "\n",
    "calculate_dd(domain_1,domain_2,verbose=True)"
   ]
  },
  {
   "cell_type": "markdown",
   "id": "6a3dafe4",
   "metadata": {
    "heading_collapsed": "true",
    "tags": []
   },
   "source": [
    "### Calculating Domain Distance between two JSON files"
   ]
  },
  {
   "cell_type": "markdown",
   "id": "5d9f6a15",
   "metadata": {},
   "source": [
    "TODO"
   ]
  },
  {
   "cell_type": "code",
   "execution_count": null,
   "id": "9b944283",
   "metadata": {},
   "outputs": [],
   "source": [
    "domain_1 = '../domains/youtube-pause/youtube-pause-6e696d.json'\n",
    "domain_2 = '../domains/facebook/facebook-b4ee9a.json'\n",
    "\n",
    "calculate_dd(domain_1,domain_2,verbose=True)"
   ]
  },
  {
   "cell_type": "markdown",
   "id": "79d3629c",
   "metadata": {
    "heading_collapsed": "true",
    "tags": []
   },
   "source": [
    "### Plotting the Domain Distance Matrix"
   ]
  },
  {
   "cell_type": "code",
   "execution_count": null,
   "id": "2c69e5e1",
   "metadata": {},
   "outputs": [],
   "source": [
    "sns.set(rc={'figure.figsize':(16,12)})\n",
    "generate_dd_matrix()"
   ]
  },
  {
   "cell_type": "markdown",
   "id": "1ba11d39",
   "metadata": {
    "heading_collapsed": "true",
    "tags": []
   },
   "source": [
    "## 2. Experiments"
   ]
  },
  {
   "cell_type": "markdown",
   "id": "3e2b2710",
   "metadata": {
    "heading_collapsed": "true",
    "tags": []
   },
   "source": [
    "### What is an Experiment? "
   ]
  },
  {
   "cell_type": "markdown",
   "id": "4bf01929",
   "metadata": {},
   "source": [
    "TODO"
   ]
  },
  {
   "cell_type": "markdown",
   "id": "1eb9a753",
   "metadata": {
    "heading_collapsed": "true",
    "tags": []
   },
   "source": [
    "### Components of an experiment"
   ]
  },
  {
   "cell_type": "markdown",
   "id": "054d87f6",
   "metadata": {},
   "source": [
    "The Major Components of an experiment are:\n",
    "1. Intelligent System(IS): \n",
    "2. Curricula Domains: \n",
    "3. Task Domains:\n",
    "4. Experience(E):\n",
    "5. Generalization Difficulty(GD): "
   ]
  },
  {
   "cell_type": "code",
   "execution_count": null,
   "id": "509bd68b-39af-4d79-9ee5-92aab0e69934",
   "metadata": {},
   "outputs": [],
   "source": [
    "EXP_FILES"
   ]
  },
  {
   "cell_type": "code",
   "execution_count": null,
   "id": "75170e18",
   "metadata": {},
   "outputs": [],
   "source": [
    "exp_file = EXP_FILES[0]\n",
    "exp = Experiment(exp_file)\n",
    "exp.get_exp_components(truncate_domains=True,print_members=True)"
   ]
  },
  {
   "cell_type": "markdown",
   "id": "ae81f015",
   "metadata": {
    "tags": []
   },
   "source": [
    "## 3. g-index"
   ]
  },
  {
   "cell_type": "markdown",
   "id": "d912faf5",
   "metadata": {
    "heading_collapsed": "true",
    "tags": []
   },
   "source": [
    "### What is g-index?"
   ]
  },
  {
   "cell_type": "markdown",
   "id": "195d04c8",
   "metadata": {},
   "source": [
    "TODO"
   ]
  },
  {
   "cell_type": "markdown",
   "id": "f040b02f",
   "metadata": {
    "tags": []
   },
   "source": [
    "### Calculating g-index from an experiment files"
   ]
  },
  {
   "cell_type": "markdown",
   "id": "71424a2a",
   "metadata": {},
   "source": [
    "TODO"
   ]
  },
  {
   "cell_type": "code",
   "execution_count": null,
   "id": "3c92dbc6",
   "metadata": {},
   "outputs": [],
   "source": [
    "experiment_benchmark = Benchmark(exp_files[0])\n",
    "#Now let's get the GIndex\n",
    "experiment_benchmark.calculate_g_index()"
   ]
  },
  {
   "cell_type": "markdown",
   "id": "eadb9e11",
   "metadata": {},
   "source": [
    "### Calculating G-index from Values"
   ]
  },
  {
   "cell_type": "code",
   "execution_count": 2,
   "id": "134d7007-04b6-4c99-8710-2a39027b1f57",
   "metadata": {},
   "outputs": [
    {
     "data": {
      "text/plain": [
       "30121.205"
      ]
     },
     "execution_count": 2,
     "metadata": {},
     "output_type": "execute_result"
    }
   ],
   "source": [
    "n_tasks_domain=5\n",
    "n_curricula_domain=40\n",
    "sim_GD=1.0\n",
    "sim_P=1e-4\n",
    "sim_E=10\n",
    "sim_PTheta=1.0\n",
    "exp = Experiment()\n",
    "exp.simulate_g_index(n_tasks_domain=n_tasks_domain, n_curricula_domain=n_curricula_domain, sim_GD=sim_GD, sim_P=sim_P, sim_E=sim_E, sim_PTheta=sim_PTheta)\n"
   ]
  },
  {
   "cell_type": "code",
   "execution_count": 3,
   "id": "a5fbe732-78b6-4b64-a797-7cee3fbfcba2",
   "metadata": {},
   "outputs": [
    {
     "data": {
      "application/vnd.jupyter.widget-view+json": {
       "model_id": "60fe31b79f0b4746b6a100f26c9723a3",
       "version_major": 2,
       "version_minor": 0
      },
      "text/plain": [
       "interactive(children=(IntSlider(value=5, description='n_tasks_domain', max=15, min=-5), IntSlider(value=40, de…"
      ]
     },
     "metadata": {},
     "output_type": "display_data"
    }
   ],
   "source": [
    "interact(exp.simulate_g_index,n_tasks_domain=n_tasks_domain, n_curricula_domain=n_curricula_domain, sim_GD=sim_GD, sim_P=sim_P, sim_E=sim_E, sim_PTheta=sim_PTheta);"
   ]
  },
  {
   "cell_type": "markdown",
   "id": "17b436e7",
   "metadata": {
    "heading_collapsed": "true",
    "tags": []
   },
   "source": [
    "## 4. Reproducing results mentioned in the paper"
   ]
  },
  {
   "cell_type": "markdown",
   "id": "2a8e60d3",
   "metadata": {
    "heading_collapsed": "true",
    "tags": []
   },
   "source": [
    "### Section-3 Simulation Plots"
   ]
  },
  {
   "cell_type": "code",
   "execution_count": null,
   "id": "4f31f1f1",
   "metadata": {},
   "outputs": [],
   "source": [
    "figsize=(16,9)\n",
    "alpha=0.90\n",
    "s=240\n",
    "fontsize=24\n",
    "labelsize=20\n",
    "plt.rcParams.update({\n",
    "    \"font.size\": 24,\n",
    "    \"lines.color\": \"black\",\n",
    "    \"patch.edgecolor\": \"white\",\n",
    "    \"axes.edgecolor\": \"0.15\",\n",
    "    \"axes.linewidth\":1.25,\n",
    "    \"axes.grid\":True,\n",
    "    \"savefig.facecolor\": \"white\",\n",
    "    \"savefig.edgecolor\": \"white\",\n",
    "    \"xtick.major.size\":20\n",
    "    })"
   ]
  },
  {
   "cell_type": "markdown",
   "id": "8af3f758",
   "metadata": {},
   "source": [
    "#### g-index vs Training Samples ( for varying $\\theta$ ) "
   ]
  },
  {
   "cell_type": "code",
   "execution_count": null,
   "id": "a86a7ce7",
   "metadata": {},
   "outputs": [],
   "source": []
  },
  {
   "cell_type": "markdown",
   "id": "3843f9ef",
   "metadata": {},
   "source": [
    "#### g-index vs Compute ( for varying $\\theta$ ) "
   ]
  },
  {
   "cell_type": "code",
   "execution_count": null,
   "id": "695e95f6",
   "metadata": {},
   "outputs": [],
   "source": []
  },
  {
   "cell_type": "markdown",
   "id": "d6204380",
   "metadata": {},
   "source": [
    "#### G-index vs $\\theta$ ( for varying $\\Omega$ ) HeatMap"
   ]
  },
  {
   "cell_type": "code",
   "execution_count": null,
   "id": "6c4a2a6e",
   "metadata": {},
   "outputs": [],
   "source": []
  },
  {
   "cell_type": "markdown",
   "id": "02c4c97e",
   "metadata": {
    "tags": []
   },
   "source": [
    "### Section-4 Experiment Plots"
   ]
  },
  {
   "cell_type": "markdown",
   "id": "fc539f31",
   "metadata": {
    "heading_collapsed": "true",
    "tags": []
   },
   "source": [
    "#### $\\theta$ vs Training Samples"
   ]
  },
  {
   "cell_type": "code",
   "execution_count": null,
   "id": "c6764d91",
   "metadata": {},
   "outputs": [],
   "source": [
    "results = {\"theta\":[],\"total_samples\":[],\"IS\":[],\"g_index\":[]}\n",
    "for exp_file in tqdm(exp_files):\n",
    "    \n",
    "    exp_benchmark = Benchmark(exp_file)    \n",
    "    theta = exp_benchmark.get_avg_perf()\n",
    "    total_samples = exp_benchmark.get_curricula_domains(return_total=True)\n",
    "    IS = exp_benchmark.get_IS_name()\n",
    "    g_index = exp_benchmark.GetExperimentIndices().GIndex\n",
    "    \n",
    "    results['theta'].append(theta)\n",
    "    results['total_samples'].append(total_samples)\n",
    "    results['IS'].append(model_name)\n",
    "    results['g_index'].append(g_index)"
   ]
  },
  {
   "cell_type": "code",
   "execution_count": null,
   "id": "bc03b424",
   "metadata": {},
   "outputs": [],
   "source": [
    "gi = results['g_index']\n",
    "g_i_dots_scales = [ scale_dots( min(gi),max(gi), c) for c in gi ]\n",
    "data_list = [ [x,y,model_name,marker_size] for (x,y,model_name,marker_size) in zip(results['total_samples'],results['theta'],results['IS'],g_i_dots_scales) ]"
   ]
  },
  {
   "cell_type": "code",
   "execution_count": null,
   "id": "f63f4d66",
   "metadata": {},
   "outputs": [],
   "source": [
    "ylabel = \"$\\\\theta$\"\n",
    "xlabel = \"Training Samples\"\n",
    "\n",
    "fig,axes = plt.subplots()\n",
    "plt.xlabel(xlabel)\n",
    "plt.ylabel(ylabel)\n",
    "axes.tick_params(labelsize=20)\n",
    "axes.tick_params(labelsize=20)\n",
    "plt.ylim(0,1)\n",
    "for entry in data_list:\n",
    "    color = model_colormap[name_correction[entry[2]]]\n",
    "    sns.scatterplot(x=[entry[0]],y=[entry[1]],color=color,s=S,alpha=ALPHA)\n",
    "\n",
    "plt.tight_layout()\n",
    "markers = [plt.Line2D([0,0],[0,0],color=color, marker='o', linestyle='') for color in model_colormap.values()]\n",
    "plt.legend(markers,model_colormap.keys(),fontsize=20)\n",
    "plt.title(f\"{ylabel} vs {xlabel}\",loc=\"center\",fontsize=22)\n",
    "# fig.savefig(f'../plots/final/{xlabel}_theta_scatterplot_varying_sizes.jpg', bbox_inches='tight')\n",
    "plt.show()"
   ]
  },
  {
   "cell_type": "markdown",
   "id": "c7ddb7c2",
   "metadata": {
    "tags": []
   },
   "source": [
    "#### Program Size Vs $\\theta$ **"
   ]
  },
  {
   "cell_type": "code",
   "execution_count": null,
   "id": "6140224b",
   "metadata": {},
   "outputs": [],
   "source": [
    "domains_considered = AVAILABLE_DOMAINS\n",
    "\n",
    "results_pst = {\"IS\":[],\"domain_name\":[],\"length\":[],\"theta\":[]}\n",
    "for exp_file in EXP_FILES:\n",
    "    exp = Experiment(exp_file)\n",
    "    for domain in domains_considered:\n",
    "        IS = exp.get_exp_components().IS\n",
    "        length = DOMAIN_LENGTHS[domain]\n",
    "        domain_details = next( item for item in exp[\"performance\"][\"domains\"] if item[\"name\"] == domain )\n",
    "        \n",
    "        results_pst[\"IS\"].append(IS)\n",
    "        results_pst[\"domain_name\"].append(domain)\n",
    "        results_pst[\"length\"].append(length)\n",
    "        results_pst[\"theta\"].append( 1 - domain_details['divergence'])\n",
    "        \n",
    "df = pd.DataFrame(results_pst).groupby(by=['domain_name','IS']).mean()\n",
    "{k: v for k, v in sorted(temp_lengths.items(), key=lambda item: item[1])}"
   ]
  },
  {
   "cell_type": "code",
   "execution_count": null,
   "id": "428e98f6",
   "metadata": {},
   "outputs": [],
   "source": [
    "xlabel = \"Program size\"\n",
    "ylabel = \"$\\\\theta$\"\n",
    "\n",
    "fig,axes = plt.subplots()\n",
    "plt.xlabel(xlabel)\n",
    "plt.ylabel(ylabel)\n",
    "plt.ylim(0,1)\n",
    "\n",
    "rl = list(results_avp.values())\n",
    "for temp in templates_considered:\n",
    "    tdf = df.loc[temp]\n",
    "    tdf = tdf.reindex([\"gpt2-medium\",\"gpt2-large\",\"gpt2-xl\",\"EleutherAI/gpt-neo-2.7B\"])\n",
    "    x = tdf['inflated_length']\n",
    "    y = tdf['theta']\n",
    "    for model in name_correction.keys():\n",
    "        x = tdf.loc[model]['inflated_length']\n",
    "        y = tdf.loc[model]['theta']\n",
    "        color = model_colormap[name_correction[model]]\n",
    "        sns.scatterplot(x=[x],y=[y],color=color,s=240,alpha=alpha)\n",
    "\n",
    "plt.tight_layout()\n",
    "markers = [plt.Line2D([0,0],[0,0],color=color, marker='o', linestyle='') for color in model_colormap.values()]\n",
    "plt.legend(markers,model_colormap.keys(),fontsize=20)\n",
    "plt.title(f\"{ylabel} vs {xlabel}\",loc=\"center\",fontsize=22)\n",
    "# fig.savefig(f'../plots/final/{xlabel}_theta_scatterplot_varying_sizes.jpg', bbox_inches='tight')\n",
    "plt.show()"
   ]
  },
  {
   "cell_type": "markdown",
   "id": "ffce77c6",
   "metadata": {
    "heading_collapsed": "true",
    "tags": []
   },
   "source": [
    "#### Program Size  vs Skill level"
   ]
  },
  {
   "cell_type": "code",
   "execution_count": null,
   "id": "406b26be",
   "metadata": {},
   "outputs": [],
   "source": [
    "results_def = {\"model_name\":[],\"domain_name\":[],\"program_size\":[],\"skill_level\":[]}\n",
    "\n",
    "for exp_file in exp_files:\n",
    "    exp = json.load(open(exp_file))\n",
    "    for temp in templates_considered:\n",
    "        results_def[\"model_name\"].append(exp[\"model\"][\"train_params\"][\"model_name\"])\n",
    "        results_def[\"inflated_length\"].append(temp_lengths[temp])\n",
    "        results_def[\"temp_name\"].append(temp)\n",
    "        temp = next( item for item in exp[\"performance\"][\"templates\"] if item[\"name\"] == temp )\n",
    "        results_def[\"perfects\"].append(temp['perfects'])\n",
    "df = pd.DataFrame(results_def).groupby(by=['temp_name','model_name']).mean()\n",
    "{k: v for k, v in sorted(temp_lengths.items(), key=lambda item: item[1])}"
   ]
  },
  {
   "cell_type": "code",
   "execution_count": null,
   "id": "8902ab5f",
   "metadata": {},
   "outputs": [],
   "source": [
    "xlabel = \"Program size\"\n",
    "ylabel = \"Skill level\"\n",
    "\n",
    "fig,axes = plt.subplots()\n",
    "plt.xlabel(xlabel)\n",
    "plt.ylabel(ylabel)\n",
    "plt.ylim(0,1)\n",
    "\n",
    "rl = list(results_def.values())\n",
    "for temp in templates_considered:\n",
    "    tdf = df.loc[temp]\n",
    "    tdf = tdf.reindex([\"gpt2-medium\",\"gpt2-large\",\"gpt2-xl\",\"EleutherAI/gpt-neo-2.7B\"])\n",
    "    x = tdf['inflated_length']\n",
    "    y = tdf['perfects']\n",
    "    for model in name_correction.keys():\n",
    "        x = tdf.loc[model]['inflated_length']\n",
    "        y = tdf.loc[model]['perfects']\n",
    "        color = model_colormap[name_correction[model]]\n",
    "        sns.scatterplot(x=[x],y=[y],color=color,s=240,alpha=alpha)\n",
    "\n",
    "plt.tight_layout()\n",
    "markers = [plt.Line2D([0,0],[0,0],color=color, marker='o', linestyle='') for color in model_colormap.values()]\n",
    "plt.legend(markers,model_colormap.keys(),fontsize=20)\n",
    "plt.title(f\"{ylabel} vs {xlabel}\",loc=\"center\",fontsize=22)\n",
    "# fig.savefig(f'../plots/final/{xlabel}_{ylabel}_scatterplot_varying_sizes.jpg', bbox_inches='tight')\n",
    "plt.show()"
   ]
  },
  {
   "cell_type": "markdown",
   "id": "f30b83f9",
   "metadata": {
    "heading_collapsed": "true",
    "tags": []
   },
   "source": [
    "#### Compute Vs $\\theta$"
   ]
  },
  {
   "cell_type": "code",
   "execution_count": null,
   "id": "8551c01d",
   "metadata": {},
   "outputs": [],
   "source": []
  },
  {
   "cell_type": "markdown",
   "id": "76380f76",
   "metadata": {
    "heading_collapsed": "true",
    "tags": []
   },
   "source": [
    "## 5. Request the data"
   ]
  },
  {
   "cell_type": "markdown",
   "id": "9f854d9f",
   "metadata": {},
   "source": [
    "You can send us a mail at [humans@mayahq.com](mailto:humans@mayahq.com) breifly describing your use case to get the data."
   ]
  },
  {
   "cell_type": "markdown",
   "id": "04f77be4",
   "metadata": {
    "heading_collapsed": "true",
    "tags": []
   },
   "source": [
    "## 6. Cite us!"
   ]
  },
  {
   "cell_type": "markdown",
   "id": "3b706cfa",
   "metadata": {},
   "source": [
    "TODO"
   ]
  }
 ],
 "metadata": {
  "kernelspec": {
   "display_name": "Python 3 (ipykernel)",
   "language": "python",
   "name": "python3"
  },
  "language_info": {
   "codemirror_mode": {
    "name": "ipython",
    "version": 3
   },
   "file_extension": ".py",
   "mimetype": "text/x-python",
   "name": "python",
   "nbconvert_exporter": "python",
   "pygments_lexer": "ipython3",
   "version": "3.8.10"
  },
  "toc-autonumbering": false,
  "toc-showmarkdowntxt": false
 },
 "nbformat": 4,
 "nbformat_minor": 5
}
