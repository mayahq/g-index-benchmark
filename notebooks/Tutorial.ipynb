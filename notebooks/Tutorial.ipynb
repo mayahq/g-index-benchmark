{
 "cells": [
  {
   "cell_type": "markdown",
   "source": [
    "## Imports"
   ],
   "metadata": {
    "tags": []
   }
  },
  {
   "cell_type": "code",
   "execution_count": null,
   "source": [
    "import json\n",
    "import os\n",
    "import sys\n",
    "from collections import defaultdict\n",
    "import glob\n",
    "from os import PathLike\n",
    "from statistics import mean\n",
    "from typing import Union\n",
    "\n",
    "import matplotlib.pyplot as plt\n",
    "import numpy as np\n",
    "import pandas as pd\n",
    "import seaborn as sns\n",
    "import matplotlib.pyplot as plt\n",
    "from tqdm import tqdm\n",
    "\n",
    "module_path = os.path.abspath(os.path.join('..'))\n",
    "if module_path not in sys.path:\n",
    "    sys.path.append(module_path)\n",
    "\n",
    "from g_index import Benchmark\n",
    "from node_utils import node_divergence\n",
    "from utils import (AVAILABLE_DOMAINS,cache_dd,calculate_dd,\n",
    "                     get_domain_example,DOMAIN_ROOT,generate_dd_matrix,get_exp_components,scale_dots)\n",
    "plt.rcParams.update({\n",
    "    \"figure.figsize\":(16,9),\n",
    "    \"font.size\": 24,\n",
    "    \"lines.color\": \"black\",\n",
    "    \"patch.edgecolor\": \"white\",\n",
    "    \"axes.edgecolor\": \"0.15\",\n",
    "    \"axes.linewidth\":1.25,\n",
    "    \"axes.grid\":True,\n",
    "    \"savefig.facecolor\": \"white\",\n",
    "    \"savefig.edgecolor\": \"white\",\n",
    "    \"xtick.major.size\":20,\n",
    "    'legend.fontsize': 20,\n",
    "    'legend.handlelength': 2\n",
    "    })\n",
    "\n",
    "EXP_ROOT = '../experiments/'\n",
    "DD_CACHE = cache_dd()\n",
    "ALPHA,S=0.90,240\n",
    "colors = [\"#375E97\",\"#FB6542\",\"#FFBB00\",\"#3F681C\"]\n",
    "models = ['gpt2-774M','gpt2-345M','gpt2-1.5B','gptneo-2.7B']\n",
    "model_colormap = {model:color for color,model in zip(colors,models) }\n",
    "name_correction = {'gpt2-medium': 'gpt2-345M',\n",
    "                   'gpt2-large': 'gpt2-774M',\n",
    "                   'gpt2-xl': 'gpt2-1.5B',\n",
    "                   'EleutherAI/gpt-neo-2.7B': 'gptneo-2.7B'}"
   ],
   "outputs": [],
   "metadata": {}
  },
  {
   "cell_type": "markdown",
   "source": [
    "## 1. Domains"
   ],
   "metadata": {
    "heading_collapsed": "true",
    "tags": []
   }
  },
  {
   "cell_type": "markdown",
   "source": [
    "### What are domains"
   ],
   "metadata": {
    "heading_collapsed": "true",
    "tags": []
   }
  },
  {
   "cell_type": "markdown",
   "source": [
    "TODO"
   ],
   "metadata": {}
  },
  {
   "cell_type": "markdown",
   "source": [
    "### List of Available Domains"
   ],
   "metadata": {
    "heading_collapsed": "true",
    "tags": []
   }
  },
  {
   "cell_type": "code",
   "execution_count": null,
   "source": [
    "os.listdir(DOMAIN_ROOT)"
   ],
   "outputs": [],
   "metadata": {}
  },
  {
   "cell_type": "markdown",
   "source": [
    "### What is Domain Distance"
   ],
   "metadata": {
    "heading_collapsed": "true",
    "tags": []
   }
  },
  {
   "cell_type": "markdown",
   "source": [
    "TODO"
   ],
   "metadata": {}
  },
  {
   "cell_type": "markdown",
   "source": [
    "### Calculating Domain Distance between two domains"
   ],
   "metadata": {
    "heading_collapsed": "true",
    "tags": []
   }
  },
  {
   "cell_type": "markdown",
   "source": [
    "TODO"
   ],
   "metadata": {}
  },
  {
   "cell_type": "code",
   "execution_count": null,
   "source": [
    "domain_1 = 'telegram-2-reply'\n",
    "domain_2 = 'telegram-3-reply'\n",
    "\n",
    "calculate_dd(domain_1,domain_2,verbose=True)"
   ],
   "outputs": [],
   "metadata": {}
  },
  {
   "cell_type": "markdown",
   "source": [
    "### Calculating Domain Distance between two JSON files"
   ],
   "metadata": {
    "heading_collapsed": "true",
    "tags": []
   }
  },
  {
   "cell_type": "markdown",
   "source": [
    "TODO"
   ],
   "metadata": {}
  },
  {
   "cell_type": "code",
   "execution_count": null,
   "source": [
    "domain_1 = '../domains/youtube-pause/youtube-pause-6e696d.json'\n",
    "domain_2 = '../domains/facebook/facebook-b4ee9a.json'\n",
    "\n",
    "calculate_dd(domain_1,domain_2,verbose=True)"
   ],
   "outputs": [],
   "metadata": {}
  },
  {
   "cell_type": "markdown",
   "source": [
    "### Plotting the Domain Distance Matrix"
   ],
   "metadata": {
    "heading_collapsed": "true",
    "tags": []
   }
  },
  {
   "cell_type": "code",
   "execution_count": null,
   "source": [
    "sns.set(rc={'figure.figsize':(16,12)})\n",
    "df = generate_dd_matrix()"
   ],
   "outputs": [],
   "metadata": {}
  },
  {
   "cell_type": "markdown",
   "source": [
    "## 2. Experiments"
   ],
   "metadata": {
    "heading_collapsed": "true",
    "tags": []
   }
  },
  {
   "cell_type": "markdown",
   "source": [
    "### What is an Experiment? "
   ],
   "metadata": {
    "heading_collapsed": "true",
    "tags": []
   }
  },
  {
   "cell_type": "markdown",
   "source": [
    "TODO"
   ],
   "metadata": {}
  },
  {
   "cell_type": "markdown",
   "source": [
    "### Components of an experiment"
   ],
   "metadata": {
    "heading_collapsed": "true",
    "tags": []
   }
  },
  {
   "cell_type": "markdown",
   "source": [
    "The Major Components of an experiment are:\n",
    "1. Intelligent System(IS): \n",
    "2. Curricula Domains: \n",
    "3. Task Domains:\n",
    "4. Experience(E):\n",
    "5. Generalization Difficulty(GD): "
   ],
   "metadata": {}
  },
  {
   "cell_type": "code",
   "execution_count": null,
   "source": [
    "exp_files = glob.glob(EXP_ROOT+\"/*.json\")"
   ],
   "outputs": [],
   "metadata": {}
  },
  {
   "cell_type": "code",
   "execution_count": null,
   "source": [
    "get_exp_components(exp_files[0])"
   ],
   "outputs": [],
   "metadata": {}
  },
  {
   "cell_type": "markdown",
   "source": [
    "## 3. g-index"
   ],
   "metadata": {
    "heading_collapsed": "true",
    "tags": []
   }
  },
  {
   "cell_type": "markdown",
   "source": [
    "### What is g-index?"
   ],
   "metadata": {
    "heading_collapsed": "true",
    "tags": []
   }
  },
  {
   "cell_type": "markdown",
   "source": [
    "TODO"
   ],
   "metadata": {}
  },
  {
   "cell_type": "markdown",
   "source": [
    "### Calculating g-index from an experiment files"
   ],
   "metadata": {
    "heading_collapsed": "true",
    "tags": []
   }
  },
  {
   "cell_type": "markdown",
   "source": [
    "TODO"
   ],
   "metadata": {}
  },
  {
   "cell_type": "code",
   "execution_count": null,
   "source": [
    "experiment_benchmark = Benchmark(exp_files[0])\n",
    "#Now let's get the GIndex\n",
    "experiment_benchmark.calculate_g_index()"
   ],
   "outputs": [],
   "metadata": {}
  },
  {
   "cell_type": "markdown",
   "source": [],
   "metadata": {}
  },
  {
   "cell_type": "markdown",
   "source": [
    "## 4. Reproducing results mentioned in the paper"
   ],
   "metadata": {
    "tags": []
   }
  },
  {
   "cell_type": "markdown",
   "source": [
    "### Section-3 Simulation Plots"
   ],
   "metadata": {
    "heading_collapsed": "true",
    "tags": []
   }
  },
  {
   "cell_type": "code",
   "execution_count": null,
   "source": [
    "figsize=(16,9)\n",
    "alpha=0.90\n",
    "s=240\n",
    "fontsize=24\n",
    "labelsize=20\n",
    "plt.rcParams.update({\n",
    "    \"font.size\": 24,\n",
    "    \"lines.color\": \"black\",\n",
    "    \"patch.edgecolor\": \"white\",\n",
    "    \"axes.edgecolor\": \"0.15\",\n",
    "    \"axes.linewidth\":1.25,\n",
    "    \"axes.grid\":True,\n",
    "    \"savefig.facecolor\": \"white\",\n",
    "    \"savefig.edgecolor\": \"white\",\n",
    "    \"xtick.major.size\":20\n",
    "    })"
   ],
   "outputs": [],
   "metadata": {}
  },
  {
   "cell_type": "markdown",
   "source": [
    "#### g-index vs Training Samples ( for varying $\\theta$ ) "
   ],
   "metadata": {}
  },
  {
   "cell_type": "code",
   "execution_count": null,
   "source": [],
   "outputs": [],
   "metadata": {}
  },
  {
   "cell_type": "markdown",
   "source": [
    "#### g-index vs Compute ( for varying $\\theta$ ) "
   ],
   "metadata": {}
  },
  {
   "cell_type": "code",
   "execution_count": null,
   "source": [],
   "outputs": [],
   "metadata": {}
  },
  {
   "cell_type": "markdown",
   "source": [
    "#### G-index vs $\\theta$ ( for varying $\\Omega$ ) HeatMap"
   ],
   "metadata": {}
  },
  {
   "cell_type": "code",
   "execution_count": null,
   "source": [],
   "outputs": [],
   "metadata": {}
  },
  {
   "cell_type": "markdown",
   "source": [
    "### Section-4 Experiment Plots"
   ],
   "metadata": {
    "tags": []
   }
  },
  {
   "cell_type": "markdown",
   "source": [
    "#### $\\theta$ vs Training Samples"
   ],
   "metadata": {
    "tags": []
   }
  },
  {
   "cell_type": "code",
   "execution_count": null,
   "source": [
    "exp_files = glob.glob(EXP_ROOT+\"/*.json\")\n",
    "results = {\"theta\":[],\"total_samples\":[],\"model_name\":[],\"g_index\":[]}\n",
    "for exp_file in tqdm(exp_files):\n",
    "    \n",
    "    exp_benchmark = Benchmark(exp_file)    \n",
    "    theta = exp_benchmark.get_avg_perf()\n",
    "    total_samples = exp_benchmark.get_curricula_domains(return_total=True)\n",
    "    model_name = exp_benchmark.get_is_name()\n",
    "    g_index = exp_benchmark.GetExperimentIndices().GIndex\n",
    "    \n",
    "    results['theta'].append(theta)\n",
    "    results['total_samples'].append(total_samples)\n",
    "    results['model_name'].append(model_name)\n",
    "    results['g_index'].append(g_index)"
   ],
   "outputs": [],
   "metadata": {}
  },
  {
   "cell_type": "code",
   "execution_count": null,
   "source": [
    "gi = results['g_index']\n",
    "g_i_dots_scales = [ scale_dots( min(gi),max(gi), c) for c in gi ]\n",
    "data_list = [ [x,y,model_name,marker_size] for (x,y,model_name,marker_size) in zip(results['total_samples'],results['theta'],results['model_name'],g_i_dots_scales) ]"
   ],
   "outputs": [],
   "metadata": {}
  },
  {
   "cell_type": "code",
   "execution_count": null,
   "source": [
    "ylabel = \"$\\\\theta$\"\n",
    "xlabel = \"Training Samples\"\n",
    "\n",
    "fig,axes = plt.subplots()\n",
    "plt.xlabel(xlabel)\n",
    "plt.ylabel(ylabel)\n",
    "axes.tick_params(labelsize=20)\n",
    "axes.tick_params(labelsize=20)\n",
    "plt.ylim(0,1)\n",
    "for entry in data_list:\n",
    "    color = model_colormap[name_correction[entry[2]]]\n",
    "    sns.scatterplot(x=[entry[0]],y=[entry[1]],color=color,s=S,alpha=ALPHA)\n",
    "\n",
    "plt.tight_layout()\n",
    "markers = [plt.Line2D([0,0],[0,0],color=color, marker='o', linestyle='') for color in model_colormap.values()]\n",
    "plt.legend(markers,model_colormap.keys(),fontsize=20)\n",
    "plt.title(f\"{ylabel} vs {xlabel}\",loc=\"center\",fontsize=22)\n",
    "# fig.savefig(f'../plots/final/{xlabel}_theta_scatterplot_varying_sizes.jpg', bbox_inches='tight')\n",
    "plt.show()"
   ],
   "outputs": [],
   "metadata": {}
  },
  {
   "cell_type": "markdown",
   "source": [
    "#### Program Size Vs $\\theta$ **"
   ],
   "metadata": {
    "tags": []
   }
  },
  {
   "cell_type": "code",
   "execution_count": null,
   "source": [
    "\n",
    "templates_considered = list( set(available_templates()) - set(ignored_templates))\n",
    "temp_lengths = {x:get_template(x).to_details().dag_length.inflated for x in templates_considered}\n",
    "\n",
    "results_avp = {\"model_name\":[],\"temp_name\":[],\"inflated_length\":[],\"theta\":[]}\n",
    "for exp_file in exp_files:\n",
    "    exp = json.load(open(exp_file))\n",
    "    for temp in templates_considered:\n",
    "        results_avp[\"model_name\"].append(exp[\"model\"][\"train_params\"][\"model_name\"])\n",
    "        results_avp[\"inflated_length\"].append(temp_lengths[temp])\n",
    "        results_avp[\"temp_name\"].append(temp)\n",
    "        temp = next( item for item in exp[\"performance\"][\"templates\"] if item[\"name\"] == temp )\n",
    "        results_avp[\"theta\"].append(1 - temp['divergence'])\n",
    "df = pd.DataFrame(results_avp).groupby(by=['temp_name','model_name']).mean()\n",
    "{k: v for k, v in sorted(temp_lengths.items(), key=lambda item: item[1])}"
   ],
   "outputs": [],
   "metadata": {}
  },
  {
   "cell_type": "code",
   "execution_count": null,
   "source": [
    "xlabel = \"Program size\"\n",
    "ylabel = \"$\\\\theta$\"\n",
    "\n",
    "fig,axes = plt.subplots()\n",
    "plt.xlabel(xlabel)\n",
    "plt.ylabel(ylabel)\n",
    "plt.ylim(0,1)\n",
    "\n",
    "rl = list(results_avp.values())\n",
    "for temp in templates_considered:\n",
    "    tdf = df.loc[temp]\n",
    "    tdf = tdf.reindex([\"gpt2-medium\",\"gpt2-large\",\"gpt2-xl\",\"EleutherAI/gpt-neo-2.7B\"])\n",
    "    x = tdf['inflated_length']\n",
    "    y = tdf['theta']\n",
    "    for model in name_correction.keys():\n",
    "        x = tdf.loc[model]['inflated_length']\n",
    "        y = tdf.loc[model]['theta']\n",
    "        color = model_colormap[name_correction[model]]\n",
    "        sns.scatterplot(x=[x],y=[y],color=color,s=240,alpha=alpha)\n",
    "\n",
    "plt.tight_layout()\n",
    "markers = [plt.Line2D([0,0],[0,0],color=color, marker='o', linestyle='') for color in model_colormap.values()]\n",
    "plt.legend(markers,model_colormap.keys(),fontsize=20)\n",
    "plt.title(f\"{ylabel} vs {xlabel}\",loc=\"center\",fontsize=22)\n",
    "# fig.savefig(f'../plots/final/{xlabel}_theta_scatterplot_varying_sizes.jpg', bbox_inches='tight')\n",
    "plt.show()"
   ],
   "outputs": [],
   "metadata": {}
  },
  {
   "cell_type": "markdown",
   "source": [
    "#### Program Size  vs Skill level"
   ],
   "metadata": {
    "tags": []
   }
  },
  {
   "cell_type": "code",
   "execution_count": null,
   "source": [
    "results_def = {\"model_name\":[],\"domain_name\":[],\"program_size\":[],\"skill_level\":[]}\n",
    "\n",
    "for exp_file in exp_files:\n",
    "    exp = json.load(open(exp_file))\n",
    "    for temp in templates_considered:\n",
    "        results_def[\"model_name\"].append(exp[\"model\"][\"train_params\"][\"model_name\"])\n",
    "        results_def[\"inflated_length\"].append(temp_lengths[temp])\n",
    "        results_def[\"temp_name\"].append(temp)\n",
    "        temp = next( item for item in exp[\"performance\"][\"templates\"] if item[\"name\"] == temp )\n",
    "        results_def[\"perfects\"].append(temp['perfects'])\n",
    "df = pd.DataFrame(results_def).groupby(by=['temp_name','model_name']).mean()\n",
    "{k: v for k, v in sorted(temp_lengths.items(), key=lambda item: item[1])}"
   ],
   "outputs": [],
   "metadata": {}
  },
  {
   "cell_type": "code",
   "execution_count": null,
   "source": [
    "xlabel = \"Program size\"\n",
    "ylabel = \"Skill level\"\n",
    "\n",
    "fig,axes = plt.subplots()\n",
    "plt.xlabel(xlabel)\n",
    "plt.ylabel(ylabel)\n",
    "plt.ylim(0,1)\n",
    "\n",
    "rl = list(results_def.values())\n",
    "for temp in templates_considered:\n",
    "    tdf = df.loc[temp]\n",
    "    tdf = tdf.reindex([\"gpt2-medium\",\"gpt2-large\",\"gpt2-xl\",\"EleutherAI/gpt-neo-2.7B\"])\n",
    "    x = tdf['inflated_length']\n",
    "    y = tdf['perfects']\n",
    "    for model in name_correction.keys():\n",
    "        x = tdf.loc[model]['inflated_length']\n",
    "        y = tdf.loc[model]['perfects']\n",
    "        color = model_colormap[name_correction[model]]\n",
    "        sns.scatterplot(x=[x],y=[y],color=color,s=240,alpha=alpha)\n",
    "\n",
    "plt.tight_layout()\n",
    "markers = [plt.Line2D([0,0],[0,0],color=color, marker='o', linestyle='') for color in model_colormap.values()]\n",
    "plt.legend(markers,model_colormap.keys(),fontsize=20)\n",
    "plt.title(f\"{ylabel} vs {xlabel}\",loc=\"center\",fontsize=22)\n",
    "# fig.savefig(f'../plots/final/{xlabel}_{ylabel}_scatterplot_varying_sizes.jpg', bbox_inches='tight')\n",
    "plt.show()"
   ],
   "outputs": [],
   "metadata": {}
  },
  {
   "cell_type": "markdown",
   "source": [
    "#### Compute Vs $\\theta$"
   ],
   "metadata": {
    "heading_collapsed": "true",
    "tags": []
   }
  },
  {
   "cell_type": "code",
   "execution_count": null,
   "source": [],
   "outputs": [],
   "metadata": {}
  },
  {
   "cell_type": "markdown",
   "source": [
    "## 5. Request the data"
   ],
   "metadata": {
    "heading_collapsed": "true",
    "tags": []
   }
  },
  {
   "cell_type": "markdown",
   "source": [
    "You can send us a mail at [humans@mayahq.com](mailto:humans@mayahq.com) breifly describing your use case to get the data."
   ],
   "metadata": {}
  },
  {
   "cell_type": "markdown",
   "source": [
    "## 6. Cite us!"
   ],
   "metadata": {
    "heading_collapsed": "true",
    "tags": []
   }
  },
  {
   "cell_type": "markdown",
   "source": [
    "TODO"
   ],
   "metadata": {}
  }
 ],
 "metadata": {
  "kernelspec": {
   "display_name": "Python 3 (ipykernel)",
   "language": "python",
   "name": "python3"
  },
  "language_info": {
   "codemirror_mode": {
    "name": "ipython",
    "version": 3
   },
   "file_extension": ".py",
   "mimetype": "text/x-python",
   "name": "python",
   "nbconvert_exporter": "python",
   "pygments_lexer": "ipython3",
   "version": "3.8.10"
  },
  "toc-autonumbering": false,
  "toc-showmarkdowntxt": false
 },
 "nbformat": 4,
 "nbformat_minor": 5
}