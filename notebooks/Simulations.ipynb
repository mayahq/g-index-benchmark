{
 "cells": [
  {
   "cell_type": "markdown",
   "metadata": {
    "heading_collapsed": "true",
    "tags": []
   },
   "source": [
    "# Imports & Preparation Code\n"
   ]
  },
  {
   "cell_type": "code",
   "execution_count": null,
   "metadata": {},
   "outputs": [],
   "source": [
    "import json\n",
    "import os\n",
    "from collections import defaultdict\n",
    "from glob import glob\n",
    "from statistics import mean\n",
    "import matplotlib.pyplot as plt\n",
    "import numpy as np\n",
    "import pandas as pd\n",
    "import seaborn as sns\n",
    "from matplotlib import colors as mcolors\n",
    "from tqdm import tqdm\n",
    "\n",
    "from ..g_index_final import Benchmark\n",
    "from ..utils import AVAILABLE_TEMPLATES, Dataset, DatasetDetails, get_template,cache_dd\n",
    "\n",
    "\n",
    "pd.set_option('display.max_rows',None)\n",
    "pd.set_option('display.max_columns',None)\n",
    "sns.set_style(\"whitegrid\")\n",
    "figsize=(8,8)\n",
    "plt.rcParams.update({\n",
    "    \"lines.color\": \"black\",\n",
    "    \"patch.edgecolor\": \"white\",\n",
    "    \"axes.edgecolor\": \"0.15\",\n",
    "    \"axes.linewidth\":1.25,\n",
    "    \"axes.grid\":True,\n",
    "#     \"text.color\": \"white\",\n",
    "#     \"axes.facecolor\": \"white\",\n",
    "#     \"axes.edgecolor\": \"lightgray\",\n",
    "#     \"axes.labelcolor\": \"white\",\n",
    "#     \"xtick.color\": \"white\",\n",
    "#     \"ytick.color\": \"white\",\n",
    "#     \"grid.color\": \"grey\",\n",
    "#     \"figure.facecolor\": \"black\",\n",
    "#     \"figure.edgecolor\": \"black\",\n",
    "    \"savefig.facecolor\": \"white\",\n",
    "    \"savefig.edgecolor\": \"white\"\n",
    "    })\n",
    "alpha=0.85"
   ]
  },
  {
   "cell_type": "code",
   "execution_count": null,
   "metadata": {},
   "outputs": [],
   "source": [
    "EXP_DIR = '../experiments/'\n",
    "TEMPLATE_DIR = '../templates/'\n",
    "exp_files = glob.glob(EXP_DIR + \"*.json\")\n",
    "template_files = glob.glob(TEMPLATE_DIR + \"*.json\")"
   ]
  },
  {
   "cell_type": "code",
   "execution_count": null,
   "metadata": {},
   "outputs": [],
   "source": [
    "colors = [\"#375E97\",\"#FB6542\",\"#FFBB00\",\"#3F681C\"]\n",
    "models = ['gpt2-774M','gpt2-345M','gpt2-1.5B','gptneo-2.7B']\n",
    "model_colormap = {model:color for color,model in zip(colors,models) }\n",
    "name_correction = {'gpt2-medium': 'gpt2-345M',\n",
    "                   'gpt2-large': 'gpt2-774M',\n",
    "                   'gpt2-xl': 'gpt2-1.5B',\n",
    "                   'EleutherAI/gpt-neo-2.7B': 'gptneo-2.7B'}"
   ]
  },
  {
   "cell_type": "markdown",
   "metadata": {
    "tags": []
   },
   "source": [
    "# Simulations"
   ]
  },
  {
   "cell_type": "markdown",
   "metadata": {
    "tags": []
   },
   "source": [
    "## G-index Vs Training Samples ( for varying Ptheta )"
   ]
  },
  {
   "cell_type": "markdown",
   "metadata": {},
   "source": [
    "### Setting up Simulation Variables"
   ]
  },
  {
   "cell_type": "code",
   "execution_count": null,
   "metadata": {},
   "outputs": [],
   "source": [
    "n_samples = [ 20 * i for i in range(1,33) ] \n",
    "PThetaValues = np.around(np.arange(0.2, 1.2, 0.2),2).tolist()\n",
    "TaskDomains = [{\"name\":task_name,\"num_samples\":5} for task_name in atemps]\n",
    "num_domains = 16\n",
    "iters_per_n_samples = 20\n",
    "dd_cache = cache_dd()"
   ]
  },
  {
   "cell_type": "markdown",
   "metadata": {},
   "source": [
    "### Running the Simulations"
   ]
  },
  {
   "cell_type": "code",
   "execution_count": null,
   "metadata": {},
   "outputs": [],
   "source": [
    "\n",
    "results_by_pt_train_samples= defaultdict(dict)\n",
    "for pt in PThetaValues:\n",
    "    pt_dict = {curricula_name:pt for curricula_name in available_templates()}\n",
    "    nsamples_dict = {\"n_samples\":[],\"g_index\":[]}\n",
    "    for ns in tqdm(n_samples):\n",
    "        for itp in range(iters_per_n_samples):\n",
    "            sample_distribution_dict = [ {\"name\":temp_name,\"num_samples\":n_sam}  for temp_name,n_sam in zip(atemps,resplit( ns * num_domains,num_domains )) ]\n",
    "            default_values_dict = {\"CurriculaDomains\": sample_distribution_dict,\"taskDomains\":td,\n",
    "                                   \"P\":1e-3,\"E\":1e2,\"PTheta\":pt_dict,\"use_dd_cache\":True,\"dd_cache\":dd_cache}\n",
    "            bmark = ModifiedBenchmark(**default_values_dict)\n",
    "            nsamples_dict[\"n_samples\"].append(ns)\n",
    "            nsamples_dict[\"g_index\"].append(bmark.GetExperimentIndices().GIndex)\n",
    "\n",
    "    results_by_pt_train_samples[pt] = nsamples_dict"
   ]
  },
  {
   "cell_type": "markdown",
   "metadata": {
    "heading_collapsed": "true",
    "tags": []
   },
   "source": [
    "# What is G-index?"
   ]
  },
  {
   "cell_type": "markdown",
   "metadata": {},
   "source": [
    "Definition here\n"
   ]
  },
  {
   "cell_type": "markdown",
   "metadata": {},
   "source": [
    "![](../images/benchmark_t.png)"
   ]
  },
  {
   "cell_type": "code",
   "execution_count": null,
   "metadata": {},
   "outputs": [],
   "source": []
  }
 ],
 "metadata": {
  "interpreter": {
   "hash": "f49acd11741c652805c7b47dd07d1c0168430759372db01307f6945f6a0597d3"
  },
  "kernelspec": {
   "display_name": "Python 3 (ipykernel)",
   "language": "python",
   "name": "python3"
  },
  "language_info": {
   "codemirror_mode": {
    "name": "ipython",
    "version": 3
   },
   "file_extension": ".py",
   "mimetype": "text/x-python",
   "name": "python",
   "nbconvert_exporter": "python",
   "pygments_lexer": "ipython3",
   "version": "3.8.10"
  }
 },
 "nbformat": 4,
 "nbformat_minor": 4
}
